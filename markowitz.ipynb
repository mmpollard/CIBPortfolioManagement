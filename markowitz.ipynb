{
 "cells": [
  {
   "cell_type": "code",
   "execution_count": 13,
   "metadata": {
    "collapsed": true
   },
   "outputs": [],
   "source": [
    "%matplotlib inline\n",
    "import Quandl\n",
    "import numpy as np\n",
    "import matplotlib.pyplot as plt\n",
    "import cvxopt as opt\n",
    "from cvxopt import blas, solvers\n",
    "import pandas as pd\n",
    "import scipy.stats\n",
    "import pylab\n",
    "\n",
    "np.random.seed(123)\n",
    "\n",
    "# Turn off progress printing \n",
    "solvers.options['show_progress'] = False"
   ]
  },
  {
   "cell_type": "code",
   "execution_count": 141,
   "metadata": {
    "collapsed": false
   },
   "outputs": [],
   "source": [
    "## NUMBER OF ASSETS\n",
    "n_assets = 4\n",
    "\n",
    "## NUMBER OF OBSERVATIONS\n",
    "n_obs = 1000\n",
    "\n",
    "#return_vec = np.random.randn(n_assets, n_obs)\n",
    "return_vec = np.matrix(get(['MSFT','IBM','ORCL','HP','INTC'], 'returns'))\n"
   ]
  },
  {
   "cell_type": "code",
   "execution_count": 142,
   "metadata": {
    "collapsed": false
   },
   "outputs": [],
   "source": [
    "def get(ticker_list, kind = 'log_returns'):\n",
    "    #takes in a ticker list and returns either a dataframe of closing price 'returns'\n",
    "    #for each stock or closing 'prices'\n",
    "    final_df = pd.DataFrame()\n",
    "    for item in ticker_list:\n",
    "        ticker = item\n",
    "        temp_df = Quandl.get('YAHOO/'+str(ticker), \n",
    "                                         trim_start='2000-01-01', trim_end='2015-01-01', collapse='daily', authtoken=\"H4uWGQ3jQdm96V7H2Abm\")\n",
    "        temp_df.index = pd.to_datetime(temp_df.index)\n",
    "        temp_df = temp_df.sort()\n",
    "        if (kind == 'prices'):\n",
    "            add_series = temp_df.Close\n",
    "        elif (kind == 'log_prices'):\n",
    "            add_series = np.log(temp_df.Close);\n",
    "        elif (kind == 'returns'):\n",
    "            add_series = temp_df.Close.shift(-1) - temp_df.Close\n",
    "            #add_series.ix[:-1]\n",
    "        else:\n",
    "            add_series = np.log(temp_df.Close).shift(-1) - np.log(temp_df.Close)\n",
    "        final_df[ticker] = add_series\n",
    "        \n",
    "\n",
    "    final_df = final_df.sort().ix[:-1]\n",
    "    return final_df"
   ]
  },
  {
   "cell_type": "code",
   "execution_count": null,
   "metadata": {
    "collapsed": false
   },
   "outputs": [],
   "source": []
  },
  {
   "cell_type": "code",
   "execution_count": 143,
   "metadata": {
    "collapsed": false,
    "scrolled": true
   },
   "outputs": [
    {
     "data": {
      "text/plain": [
       "<matplotlib.text.Text at 0x10b2dcb50>"
      ]
     },
     "execution_count": 143,
     "metadata": {},
     "output_type": "execute_result"
    },
    {
     "data": {
      "image/png": "[encoded data removed]",
      "text/plain": [
       "<matplotlib.figure.Figure at 0x10c9ae7d0>"
      ]
     },
     "metadata": {},
     "output_type": "display_data"
    }
   ],
   "source": [
    "plt.plot(return_vec, alpha=.4);\n",
    "plt.xlabel('time')\n",
    "plt.ylabel('returns')\n"
   ]
  },
  {
   "cell_type": "code",
   "execution_count": 144,
   "metadata": {
    "collapsed": false
   },
   "outputs": [
    {
     "name": "stdout",
     "output_type": "stream",
     "text": [
      "[ 0.38745147  0.50468088  0.08261849  0.02524916]\n",
      "[ 0.40400848  0.07423466  0.43671132  0.08504554]\n"
     ]
    }
   ],
   "source": [
    "def rand_weights(n):\n",
    "    ''' Produces n random weights that sum to 1 '''\n",
    "    k = np.random.rand(n)\n",
    "    return k / sum(k)\n",
    "\n",
    "print rand_weights(n_assets)\n",
    "print rand_weights(n_assets)"
   ]
  },
  {
   "cell_type": "code",
   "execution_count": 145,
   "metadata": {
    "collapsed": false
   },
   "outputs": [],
   "source": [
    "def random_portfolio(returns):\n",
    "    ''' \n",
    "    Returns the mean and standard deviation of returns for a random portfolio\n",
    "    '''\n",
    "\n",
    "    p = np.asmatrix(np.mean(returns, axis=1))\n",
    "    #print 'p:\\n'\n",
    "    #print p\n",
    "    \n",
    "    w = np.asmatrix(rand_weights(returns.shape[0])).T\n",
    "    #print 'w:\\n'\n",
    "    #print w\n",
    "    C = np.asmatrix(np.cov(returns))\n",
    "    #print 'C:\\n'\n",
    "    #print C\n",
    "    \n",
    "    mu = w.T * p\n",
    "    sigma = np.sqrt(w.T * C * w)\n",
    "    \n",
    "    # This recursion reduces outliers to keep plots pretty\n",
    "    if sigma > 2:\n",
    "        return random_portfolio(returns)\n",
    "    return mu, sigma\n",
    "\n",
    "#random_portfolio(return_vec)"
   ]
  },
  {
   "cell_type": "code",
   "execution_count": null,
   "metadata": {
    "collapsed": false
   },
   "outputs": [],
   "source": [
    "n_portfolios = 1000\n",
    "means, stds = np.column_stack([\n",
    "    random_portfolio(return_vec) \n",
    "    for _ in xrange(n_portfolios)\n",
    "])"
   ]
  },
  {
   "cell_type": "code",
   "execution_count": null,
   "metadata": {
    "collapsed": false
   },
   "outputs": [],
   "source": [
    "plt.plot(stds, means, 'o', markersize=5)\n",
    "#plt.axis([0, .30, -.20, .20])\n",
    "plt.xlabel('std')\n",
    "plt.ylabel('mean')\n",
    "plt.title('Mean, SD of returns of randomly weighted portfolios in IBM, AAPL, HP, MSFT, ORCL')"
   ]
  },
  {
   "cell_type": "code",
   "execution_count": null,
   "metadata": {
    "collapsed": false
   },
   "outputs": [],
   "source": [
    "def optimal_portfolio(returns):\n",
    "    n = len(returns)\n",
    "    returns = np.asmatrix(returns)\n",
    "    \n",
    "    N = 100\n",
    "    mus = [10**(5.0 * t/N - 1.0) for t in range(N)]\n",
    "    \n",
    "    # Convert to cvxopt matrices\n",
    "    S = opt.matrix(np.cov(returns))\n",
    "    pbar = opt.matrix(np.mean(returns, axis=1))\n",
    "    \n",
    "    # Create constraint matrices\n",
    "    G = -opt.matrix(np.eye(n))   # negative n x n identity matrix\n",
    "    h = opt.matrix(0.0, (n ,1))\n",
    "    A = opt.matrix(1.0, (1, n))\n",
    "    b = opt.matrix(1.0)\n",
    "    \n",
    "    # Calculate efficient frontier weights using quadratic programming\n",
    "    portfolios = [solvers.qp(mu*S, -pbar, G, h, A, b)['x'] \n",
    "                  for mu in mus]\n",
    "    ## CALCULATE RISKS AND RETURNS FOR FRONTIER\n",
    "    returns = [blas.dot(pbar, x) for x in portfolios]\n",
    "    risks = [np.sqrt(blas.dot(x, S*x)) for x in portfolios]\n",
    "    ## CALCULATE THE 2ND DEGREE POLYNOMIAL OF THE FRONTIER CURVE\n",
    "    m1 = np.polyfit(returns, risks, 2)\n",
    "    x1 = np.sqrt(m1[2] / m1[0])\n",
    "    # CALCULATE THE OPTIMAL PORTFOLIO\n",
    "    wt = solvers.qp(opt.matrix(x1 * S), -pbar, G, h, A, b)['x']\n",
    "    return np.asarray(wt), returns, risks\n",
    "\n",
    "weights, returns, risks = optimal_portfolio(return_vec)\n",
    "\n",
    "\n",
    "plt.title(\"Efficient Frontier (In Yellow)\")\n",
    "plt.plot(stds, means, 'o')\n",
    "plt.ylabel('mean')\n",
    "plt.xlabel('std')\n",
    "plt.plot(risks, returns, 'y-o')"
   ]
  },
  {
   "cell_type": "code",
   "execution_count": null,
   "metadata": {
    "collapsed": true
   },
   "outputs": [],
   "source": []
  }
 ],
 "metadata": {
  "kernelspec": {
   "display_name": "Python 2",
   "language": "python",
   "name": "python2"
  },
  "language_info": {
   "codemirror_mode": {
    "name": "ipython",
    "version": 2
   },
   "file_extension": ".py",
   "mimetype": "text/x-python",
   "name": "python",
   "nbconvert_exporter": "python",
   "pygments_lexer": "ipython2",
   "version": "2.7.10"
  }
 },
 "nbformat": 4,
 "nbformat_minor": 0
}
