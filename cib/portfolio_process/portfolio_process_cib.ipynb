{
 "cells": [
  {
   "cell_type": "markdown",
   "metadata": {},
   "source": [
    "# CIB Portfolio Process"
   ]
  },
  {
   "cell_type": "code",
   "execution_count": 1,
   "metadata": {
    "collapsed": false
   },
   "outputs": [],
   "source": [
    "import Quandl; import requests\n",
    "import numpy as np; import pandas as pd\n",
    "import math; import scipy\n",
    "import scipy.stats; import matplotlib\n",
    "import matplotlib.pyplot as plt; import matplotlib.pylab as pylab\n",
    "import os; import random\n",
    "import datetime; import seaborn as sns\n",
    "prices_loaded = {}\n",
    "\n",
    "%matplotlib inline  \n",
    "pd.options.display.mpl_style = 'default'\n",
    "pylab.rcParams['figure.figsize'] = 12, 6 "
   ]
  },
  {
   "cell_type": "code",
   "execution_count": 2,
   "metadata": {
    "collapsed": false
   },
   "outputs": [],
   "source": [
    "def get(ticker_list, kind = 'log_returns'):\n",
    "    #takes in a ticker list and returns either a dataframe of closing price 'returns'\n",
    "    #for each stock or closing 'prices'\n",
    "    final_df = pd.DataFrame()\n",
    "    price_loaded = {}\n",
    "    for item in ticker_list:\n",
    "        if item in prices_loaded:\n",
    "            final_df[item] = prices_loaded[item]\n",
    "            continue\n",
    "        ticker = item\n",
    "        temp_df = Quandl.get('YAHOO/'+str(ticker), \n",
    "                                         trim_start='2001-01-01', authtoken=\"H4uWGQ3jQdm96V7H2Abm\")\n",
    "        temp_df.index = pd.to_datetime(temp_df.index)\n",
    "        temp_df = temp_df.sort()\n",
    "        if (kind == 'prices'):\n",
    "            add_series = temp_df.Close\n",
    "        elif (kind == 'log_prices'):\n",
    "            add_series = np.log(temp_df.Close);\n",
    "        elif (kind == 'returns'):\n",
    "            add_series = temp_df.Close.shift(-1) - temp_df.Close\n",
    "        else:\n",
    "            add_series = np.log(temp_df.Close).shift(-1) - np.log(temp_df.Close)\n",
    "        price_loaded[item] = add_series   \n",
    "        final_df[ticker] = add_series\n",
    "        \n",
    "\n",
    "    final_df = final_df.sort()\n",
    "    final_df = final_df.dropna()\n",
    "    return final_df\n"
   ]
  },
  {
   "cell_type": "markdown",
   "metadata": {},
   "source": [
    "## Markowitz Efficient Portfolio Calculations"
   ]
  },
  {
   "cell_type": "code",
   "execution_count": 3,
   "metadata": {
    "collapsed": true
   },
   "outputs": [],
   "source": [
    "def portfolio_sharpe(return_df, weight_list):\n",
    "    risk = float(portfolio_risk(return_df, weight_list))\n",
    "    weight_t = np.matrix(weight_list)\n",
    "    mean = np.matrix(return_df.mean()).transpose()\n",
    "    sharpe = weight_t * mean / risk\n",
    "    return float(sharpe)\n",
    "\n",
    "def portfolio_e_return(return_df, weight_list):\n",
    "    weight_t = np.matrix(weight_list)\n",
    "    mean = np.matrix(return_df.mean()).transpose()\n",
    "    return float(weight_t * mean)\n",
    "\n",
    "def portfolio_risk(return_df, weight_list):\n",
    "    #Take in a PRICE_DF with columns being each stock's daily log_returns\n",
    "    #Take in WEIGHT_LIST with each list entry corresponding to the respective price_df\n",
    "    #column's weight in the portfolio\n",
    "    #PRICE_DF should be a concatenation of return series from return_series()\n",
    "    if (abs(sum(weight_list) - 1) > .01):\n",
    "        print(\"EROR: Weights do not sum to 1\");\n",
    "        return None\n",
    "    cov_matrix = np.matrix(return_df.cov())\n",
    "    weight_t = np.matrix(weight_list)\n",
    "    weight = weight_t.transpose()\n",
    "    variance = weight_t * cov_matrix * weight\n",
    "    return float(variance)"
   ]
  },
  {
   "cell_type": "code",
   "execution_count": null,
   "metadata": {
    "collapsed": false
   },
   "outputs": [],
   "source": []
  },
  {
   "cell_type": "code",
   "execution_count": 4,
   "metadata": {
    "collapsed": true
   },
   "outputs": [],
   "source": [
    "def efficient_frontier_plot(portfolio, n_obs):\n",
    "    count = 0\n",
    "    xyw = pd.DataFrame([[None,None]])\n",
    "    while count < n_obs:\n",
    "        weight_list = [random.uniform(0, 1) for i in range(1, len(portfolio.columns) + 1)]\n",
    "        \n",
    "        weight_list = [item / float(sum(weight_list)) for item in weight_list]\n",
    "        risk = portfolio_risk(portfolio, weight_list)\n",
    "        e_return = portfolio_e_return(portfolio, weight_list)\n",
    "        xyw = xyw.append([[math.sqrt(risk), e_return, weight_list]])\n",
    "        \n",
    "        count += 1\n",
    "    xyw.columns = ['x', 'y', 'w']\n",
    "    xyw['sharpe'] = xyw.y / xyw.x\n",
    "    xyw['y'] = xyw.y * 100\n",
    "    xyw.plot(title = \"Efficient Frontier from \" + str(n_obs) + \n",
    "             \" Sample Portfolios\", kind = 'scatter', y = 'y', x = 'x')\n",
    "    plt.figure()\n",
    "    plt.title(\"Histogram of Sample Sharpe Ratios\\nMean: \"+str(xyw.sharpe.mean()) + \"\\nSD: \" + str(xyw.sharpe.std()))\n",
    "    xyw.sharpe.hist(bins = 50)\n",
    "    plt.figure()\n",
    "    plt.title(\"Histogram of Sample Portfolio Variances\\nMean: \"+str(xyw.x.mean()) + \"\\nSD: \" + str(xyw.x.std()))\n",
    "    xyw.x.hist(bins = 50)\n",
    "    plt.figure()\n",
    "    plt.title(\"Histogram of Sample Portfolio Mean Returns\\nMean: \"+str((xyw.y / 100).mean()) + \"\\nSD: \" + str((xyw.y / 100).std()))\n",
    "    xyw.y.hist(bins = 50)\n",
    "    return xyw"
   ]
  },
  {
   "cell_type": "code",
   "execution_count": 5,
   "metadata": {
    "collapsed": false
   },
   "outputs": [],
   "source": [
    "def find_tangency_portfolio(portfolio, n_obs):\n",
    "    #finds tangency portfolio weights from n_obs number of samples\n",
    "    temp = efficient_frontier_plot(portfolio, n_obs)\n",
    "    return temp[temp.sharpe == temp.sharpe.max()].w[0]\n",
    "\n",
    "def find_optimal_portfolios(portfolio, n_obs, quantile_start, quantile_end):\n",
    "    #returns efficient frontier dataframe with only portfolio weights with \n",
    "    #a sharpe between the qth_start and qth_end quantile\n",
    "    temp = efficient_frontier_plot(portfolio, n_obs)\n",
    "    qth_start = find_quantile(temp.sharpe, quantile_start)\n",
    "    qth_end = find_quantile(temp.sharpe, quantile_end)\n",
    "\n",
    "    temp = temp[temp.sharpe < qth_end]\n",
    "    temp = temp[temp.sharpe > qth_start]\n",
    "    return temp\n",
    "\n"
   ]
  },
  {
   "cell_type": "markdown",
   "metadata": {},
   "source": [
    "## Statistical Functions "
   ]
  },
  {
   "cell_type": "code",
   "execution_count": 6,
   "metadata": {
    "collapsed": true
   },
   "outputs": [],
   "source": [
    "def find_quantile(series, qth_percentile):\n",
    "    #returns the qth percentile element of the input series\n",
    "    #qth percentile = 95 takes the 95% quantile\n",
    "    return np.percentile(series, qth_percentile)\n",
    "\n",
    "def qq_plot(return_series, distribution = 'norm'):\n",
    "    scipy.stats.probplot(return_series, dist=distribution, plot=pylab, fit = True)\n",
    "\n",
    "def histogram(series):\n",
    "    series.hist()\n",
    "    pylab.suptitle(\"Samples = \" + str(len(series)) + \n",
    "               \"\\nMean = \" + str(series.mean()) + \n",
    "               \"\\nSTD = \" + str(series.std()))\n",
    "    \n",
    "    "
   ]
  },
  {
   "cell_type": "code",
   "execution_count": 7,
   "metadata": {
    "collapsed": false
   },
   "outputs": [],
   "source": [
    "def cov_heatmap(cov_df):\n",
    "    sns.heatmap(cov_df)\n",
    "    return"
   ]
  },
  {
   "cell_type": "markdown",
   "metadata": {},
   "source": [
    "## Fundamental Analysis"
   ]
  },
  {
   "cell_type": "code",
   "execution_count": 8,
   "metadata": {
    "collapsed": true
   },
   "outputs": [],
   "source": [
    "def get_eps(ticker_list):\n",
    "    final_df = pd.DataFrame()\n",
    "    for ticker in ticker_list:\n",
    "        try:\n",
    "            temp_df = Quandl.get(\"SEC/\" + ticker + \"_EARNINGSPERSHAREDILUTED_Q\", \n",
    "                                         authtoken=\"H4uWGQ3jQdm96V7H2Abm\")\n",
    "        except:\n",
    "            print(\"WARNING: Could not find EPS for \" + ticker)\n",
    "            continue;\n",
    "        temp_df.columns = [ticker]\n",
    "        if not final_df.equals(pd.DataFrame()):\n",
    "            final_df = pd.merge(final_df, temp_df, left_index = True, right_index = True,  how = 'outer')\n",
    "        else:\n",
    "            final_df = temp_df\n",
    "    final_df = final_df.fillna(method = 'ffill')\n",
    "    return final_df"
   ]
  },
  {
   "cell_type": "code",
   "execution_count": 9,
   "metadata": {
    "collapsed": false
   },
   "outputs": [],
   "source": [
    "def get_div(ticker_list):\n",
    "    final_df = pd.DataFrame()\n",
    "    for ticker in ticker_list:\n",
    "        try:\n",
    "            temp_df = Quandl.get((\"SEC/DIV_\" + ticker), \n",
    "                                         authtoken=\"H4uWGQ3jQdm96V7H2Abm\")\n",
    "        except:\n",
    "            print(\"WARNING: Could not find DIV for \" + ticker)\n",
    "            continue;\n",
    "        temp_df.columns = [ticker]\n",
    "        if not final_df.equals(pd.DataFrame()):\n",
    "            final_df = pd.merge(final_df, temp_df, left_index = True, right_index = True,  how = 'outer')\n",
    "        else:\n",
    "            final_df = temp_df\n",
    "    final_df = final_df.fillna(method = 'ffill')    \n",
    "    return final_df"
   ]
  },
  {
   "cell_type": "code",
   "execution_count": 10,
   "metadata": {
    "collapsed": true
   },
   "outputs": [],
   "source": [
    "def get_revenue(ticker_list):\n",
    "    final_df = pd.DataFrame()\n",
    "    for ticker in ticker_list:\n",
    "        try:\n",
    "            temp_df = Quandl.get(\"SEC/\" + ticker + \"_REVENUES_Q\", \n",
    "                                         authtoken=\"H4uWGQ3jQdm96V7H2Abm\")\n",
    "        except:\n",
    "            print(\"WARNING: Could not find EPS for \" + ticker)\n",
    "            continue;\n",
    "        temp_df.columns = [ticker]\n",
    "        if not final_df.equals(pd.DataFrame()):\n",
    "            final_df = pd.merge(final_df, temp_df, left_index = True, right_index = True,  how = 'outer')\n",
    "        else:\n",
    "            final_df = temp_df\n",
    "    final_df = final_df.fillna(method = 'ffill')\n",
    "    return final_df"
   ]
  },
  {
   "cell_type": "code",
   "execution_count": 11,
   "metadata": {
    "collapsed": true
   },
   "outputs": [],
   "source": [
    "def get_netincome(ticker_list):\n",
    "    final_df = pd.DataFrame()\n",
    "    for ticker in ticker_list:\n",
    "        try:\n",
    "            temp_df = Quandl.get(\"SEC/\" + ticker + \"_NETINCOME_Q\", \n",
    "                                         authtoken=\"H4uWGQ3jQdm96V7H2Abm\")\n",
    "        except:\n",
    "            print(\"WARNING: Could not find EPS for \" + ticker)\n",
    "            continue;\n",
    "        temp_df.columns = [ticker]\n",
    "        if not final_df.equals(pd.DataFrame()):\n",
    "            final_df = pd.merge(final_df, temp_df, left_index = True, right_index = True,  how = 'outer')\n",
    "        else:\n",
    "            final_df = temp_df\n",
    "    final_df = final_df.fillna(method = 'ffill')\n",
    "    return final_df"
   ]
  },
  {
   "cell_type": "code",
   "execution_count": null,
   "metadata": {
    "collapsed": false
   },
   "outputs": [],
   "source": []
  },
  {
   "cell_type": "code",
   "execution_count": null,
   "metadata": {
    "collapsed": false
   },
   "outputs": [],
   "source": []
  },
  {
   "cell_type": "code",
   "execution_count": 12,
   "metadata": {
    "collapsed": false
   },
   "outputs": [],
   "source": [
    "def ally_df(ticker):\n",
    "    #returns latest eps and dividend for each date\n",
    "    #the first column is daily returns for the stock\n",
    "    price_df = get([ticker])\n",
    "    eps_df = get_eps([ticker])\n",
    "    div_df = get_div([ticker])\n",
    "    final_df = pd.merge(price_df, eps_df, right_index = True, left_index = True, how = 'left')\n",
    "    final_df = pd.merge(final_df, div_df, right_index = True, left_index = True, how = 'left')\n",
    "    final_df.columns = [ticker, 'EPS', 'DIV']\n",
    "    final_df.EPS = final_df.EPS.fillna(method = 'ffill')\n",
    "    final_df.DIV = final_df.DIV.fillna(method = 'ffill')\n",
    "    return final_df"
   ]
  },
  {
   "cell_type": "code",
   "execution_count": 13,
   "metadata": {
    "collapsed": true
   },
   "outputs": [],
   "source": [
    "def div_dis_model(ticker, discount_rate):\n",
    "    temp = ally_df(ticker)\n",
    "\n",
    "\n",
    "    temp = temp.fillna(0)\n",
    "    temp['place'] = np.where(temp.DIV != temp.DIV.shift(1), 1, 0)\n",
    "\n",
    "    temp['exp'] = temp.place.cumsum()\n",
    "    temp['series_entry'] = np.where(temp.DIV != temp.DIV.shift(1), temp.DIV / (1 + discount_rate) ** (temp.exp), 0)\n",
    "    answer = temp.series_entry.sum()\n",
    "    return answer"
   ]
  },
  {
   "cell_type": "markdown",
   "metadata": {
    "collapsed": false
   },
   "source": [
    "## Get S&P 500 Tickers"
   ]
  },
  {
   "cell_type": "code",
   "execution_count": 14,
   "metadata": {
    "collapsed": false
   },
   "outputs": [],
   "source": [
    "def get_sp500():\n",
    "    temp = pd.read_csv(\"data/sp500_tickers.csv\")\n",
    "    temp.columns = ['ticker', 'name', 'sector']\n",
    "    temp = temp[temp.ticker != 'ICE']\n",
    "    return temp\n"
   ]
  },
  {
   "cell_type": "markdown",
   "metadata": {},
   "source": [
    "## >> CODE TESTING"
   ]
  },
  {
   "cell_type": "code",
   "execution_count": 15,
   "metadata": {
    "collapsed": false
   },
   "outputs": [],
   "source": [
    "port = get([\"aapl\", 'ge', 'msft', 'f', 'gs', 'm'])\n",
    "\n",
    "#sp500 = get_sp500()\n",
    "#sp500_p = get([a for a in sp500.ticker[sp500.sector == 'Energy']], 'log_returns')\n",
    "port = get(['aapl', 'msft', 'ge', 'ba', 'de', 'f', 'coke', 'gs'])"
   ]
  },
  {
   "cell_type": "code",
   "execution_count": 21,
   "metadata": {
    "collapsed": false
   },
   "outputs": [
    {
     "data": {
      "image/png": "[encoded data removed]",
      "text/plain": [
       "<matplotlib.figure.Figure at 0x10d2d1ad0>"
      ]
     },
     "metadata": {},
     "output_type": "display_data"
    }
   ],
   "source": [
    "cov_heatmap(port.cov())"
   ]
  },
  {
   "cell_type": "code",
   "execution_count": null,
   "metadata": {
    "collapsed": true
   },
   "outputs": [],
   "source": []
  },
  {
   "cell_type": "code",
   "execution_count": null,
   "metadata": {
    "collapsed": true
   },
   "outputs": [],
   "source": []
  },
  {
   "cell_type": "code",
   "execution_count": 16,
   "metadata": {
    "collapsed": false
   },
   "outputs": [
    {
     "data": {
      "text/plain": [
       "<matplotlib.axes.AxesSubplot at 0x10d2f6a50>"
      ]
     },
     "execution_count": 16,
     "metadata": {},
     "output_type": "execute_result"
    },
    {
     "data": {
      "image/png": "[encoded data removed]",
      "text/plain": [
       "<matplotlib.figure.Figure at 0x10d23ba50>"
      ]
     },
     "metadata": {},
     "output_type": "display_data"
    }
   ],
   "source": [
    "pd.rolling_corr(port['ge'], port['aapl'], window=500).plot()"
   ]
  },
  {
   "cell_type": "code",
   "execution_count": 12,
   "metadata": {
    "collapsed": true
   },
   "outputs": [],
   "source": [
    "def analyze_covariance(price_df, weight_list, reduced_size):\n",
    "    cov_df = price_df.cov()\n",
    "    p_risk = portfolio_risk(price_df, weight_list)\n",
    "    \n",
    "    \n",
    "    "
   ]
  },
  {
   "cell_type": "code",
   "execution_count": null,
   "metadata": {
    "collapsed": false
   },
   "outputs": [],
   "source": []
  },
  {
   "cell_type": "code",
   "execution_count": null,
   "metadata": {
    "collapsed": false
   },
   "outputs": [],
   "source": []
  },
  {
   "cell_type": "code",
   "execution_count": null,
   "metadata": {
    "collapsed": false
   },
   "outputs": [],
   "source": []
  },
  {
   "cell_type": "code",
   "execution_count": 73,
   "metadata": {
    "collapsed": false
   },
   "outputs": [
    {
     "data": {
      "text/plain": [
       "matrix([[ 0.00172632,  0.00017263,  0.00019241,  0.00015067],\n",
       "        [ 0.00017263,  0.00024332,  0.00016244,  0.00012195],\n",
       "        [ 0.00019241,  0.00016244,  0.00038269,  0.00019067],\n",
       "        [ 0.00015067,  0.00012195,  0.00019067,  0.00035773]])"
      ]
     },
     "execution_count": 73,
     "metadata": {},
     "output_type": "execute_result"
    }
   ],
   "source": [
    "#Get log returns dataframe\n",
    "temp = get(['AAPL', 'IBM', 'GE', 'BA'], 'log_returns')\n",
    "#Make mean return vector\n",
    "mean = np.matrix(temp.mean()).transpose()\n",
    "#Make weight vector\n",
    "w = np.matrix([.4, .2, .1, .3])\n",
    "#Make Covaraince matrix of returns\n",
    "np.matrix(temp.cov())"
   ]
  },
  {
   "cell_type": "code",
   "execution_count": null,
   "metadata": {
    "collapsed": true
   },
   "outputs": [],
   "source": []
  },
  {
   "cell_type": "code",
   "execution_count": null,
   "metadata": {
    "collapsed": false
   },
   "outputs": [],
   "source": []
  },
  {
   "cell_type": "code",
   "execution_count": null,
   "metadata": {
    "collapsed": true
   },
   "outputs": [],
   "source": []
  },
  {
   "cell_type": "code",
   "execution_count": 44,
   "metadata": {
    "collapsed": false
   },
   "outputs": [],
   "source": [
    "a=get_sp500()\n",
    "temp = [a for a in a.ticker]\n",
    "temp = ally_df('IBM')\n"
   ]
  },
  {
   "cell_type": "code",
   "execution_count": 60,
   "metadata": {
    "collapsed": false
   },
   "outputs": [
    {
     "data": {
      "text/plain": [
       "4.5705690082486017"
      ]
     },
     "execution_count": 60,
     "metadata": {},
     "output_type": "execute_result"
    }
   ],
   "source": [
    "temp = ally_df('IBM')\n",
    "\n",
    "\n",
    "temp = temp.fillna(0)\n",
    "temp['place'] = np.where(temp.DIV != temp.DIV.shift(1), 1, 0)\n",
    "\n",
    "temp['exp'] = temp.place.cumsum()\n",
    "temp['series_entry'] = np.where(temp.DIV != temp.DIV.shift(1), temp.DIV / (1 + .05) ** (temp.exp), 0)\n",
    "answer = temp.series_entry.sum()\n",
    "answer"
   ]
  },
  {
   "cell_type": "code",
   "execution_count": 102,
   "metadata": {
    "collapsed": false
   },
   "outputs": [
    {
     "data": {
      "image/png": "[encoded data removed]",
      "text/plain": [
       "<matplotlib.figure.Figure at 0x10c89c390>"
      ]
     },
     "metadata": {},
     "output_type": "display_data"
    }
   ],
   "source": [
    "histogram(eps_df.std())"
   ]
  },
  {
   "cell_type": "code",
   "execution_count": null,
   "metadata": {
    "collapsed": true
   },
   "outputs": [],
   "source": []
  },
  {
   "cell_type": "code",
   "execution_count": null,
   "metadata": {
    "collapsed": false
   },
   "outputs": [],
   "source": []
  },
  {
   "cell_type": "code",
   "execution_count": null,
   "metadata": {
    "collapsed": false
   },
   "outputs": [],
   "source": []
  },
  {
   "cell_type": "code",
   "execution_count": null,
   "metadata": {
    "collapsed": false
   },
   "outputs": [],
   "source": []
  },
  {
   "cell_type": "code",
   "execution_count": 4,
   "metadata": {
    "collapsed": false
   },
   "outputs": [],
   "source": [
    "portfolio = get(['msft', 'mu', 'f', 'gs', 'ge', 'cvx', 'gs', 'ups', 'luv'], 'log_returns')"
   ]
  },
  {
   "cell_type": "code",
   "execution_count": null,
   "metadata": {
    "collapsed": false
   },
   "outputs": [],
   "source": []
  },
  {
   "cell_type": "code",
   "execution_count": 16,
   "metadata": {
    "collapsed": false
   },
   "outputs": [
    {
     "data": {
      "text/plain": [
       "-0.11761119743087618"
      ]
     },
     "execution_count": 16,
     "metadata": {},
     "output_type": "execute_result"
    }
   ],
   "source": [
    "portfolio_sharpe(portfolio, [.2, .2, .4, .2])\n"
   ]
  },
  {
   "cell_type": "code",
   "execution_count": null,
   "metadata": {
    "collapsed": true
   },
   "outputs": [],
   "source": [
    "\n"
   ]
  },
  {
   "cell_type": "code",
   "execution_count": null,
   "metadata": {
    "collapsed": false
   },
   "outputs": [],
   "source": []
  },
  {
   "cell_type": "code",
   "execution_count": null,
   "metadata": {
    "collapsed": true
   },
   "outputs": [],
   "source": []
  },
  {
   "cell_type": "code",
   "execution_count": null,
   "metadata": {
    "collapsed": true
   },
   "outputs": [],
   "source": []
  },
  {
   "cell_type": "code",
   "execution_count": null,
   "metadata": {
    "collapsed": false
   },
   "outputs": [],
   "source": []
  },
  {
   "cell_type": "code",
   "execution_count": null,
   "metadata": {
    "collapsed": true
   },
   "outputs": [],
   "source": []
  }
 ],
 "metadata": {
  "kernelspec": {
   "display_name": "Python 2",
   "language": "python",
   "name": "python2"
  },
  "language_info": {
   "codemirror_mode": {
    "name": "ipython",
    "version": 2
   },
   "file_extension": ".py",
   "mimetype": "text/x-python",
   "name": "python",
   "nbconvert_exporter": "python",
   "pygments_lexer": "ipython2",
   "version": "2.7.6"
  }
 },
 "nbformat": 4,
 "nbformat_minor": 0
}
