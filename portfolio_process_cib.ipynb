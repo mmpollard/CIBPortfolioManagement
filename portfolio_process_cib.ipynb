{
 "cells": [
  {
   "cell_type": "markdown",
   "metadata": {},
   "source": [
    "# CIB Portfolio Process"
   ]
  },
  {
   "cell_type": "code",
   "execution_count": 13,
   "metadata": {
    "collapsed": false
   },
   "outputs": [],
   "source": [
    "import Quandl; import requests\n",
    "import numpy as np; import pandas as pd\n",
    "import math; import scipy\n",
    "import scipy.stats; import matplotlib\n",
    "import matplotlib.pyplot as plt; import matplotlib.pylab as pylab\n",
    "import os; import random\n",
    "import datetime; import seaborn as sns\n",
    "prices_loaded = {}\n",
    "\n",
    "%matplotlib inline  \n",
    "pd.options.display.mpl_style = 'default'\n",
    "pylab.rcParams['figure.figsize'] = 12, 6 "
   ]
  },
  {
   "cell_type": "code",
   "execution_count": 56,
   "metadata": {
    "collapsed": false
   },
   "outputs": [],
   "source": [
    "def get(ticker_list, kind = 'log_returns'):\n",
    "    #takes in a ticker list and returns either a dataframe of closing price 'returns'\n",
    "    #for each stock or closing 'prices'\n",
    "    final_df = pd.DataFrame()\n",
    "    price_loaded = {}\n",
    "    for item in ticker_list:\n",
    "        if item in prices_loaded:\n",
    "            final_df[item] = prices_loaded[item]\n",
    "            continue\n",
    "        ticker = item\n",
    "        temp_df = Quandl.get('YAHOO/'+str(ticker), \n",
    "                                         trim_start='2001-01-01', authtoken=\"H4uWGQ3jQdm96V7H2Abm\")\n",
    "        temp_df.index = pd.to_datetime(temp_df.index)\n",
    "        temp_df = temp_df.sort()\n",
    "        if (kind == 'prices'):\n",
    "            add_series = temp_df.Close\n",
    "        elif (kind == 'log_prices'):\n",
    "            add_series = np.log(temp_df.Close);\n",
    "        elif (kind == 'returns'):\n",
    "            add_series = temp_df.Close.shift(-1) - temp_df.Close\n",
    "        else:\n",
    "            add_series = np.log(temp_df.Close).shift(-1) - np.log(temp_df.Close)\n",
    "        price_loaded[item] = add_series   \n",
    "        final_df[ticker] = add_series\n",
    "        \n",
    "\n",
    "    final_df = final_df.sort()\n",
    "    final_df = final_df.dropna()\n",
    "    return final_df\n"
   ]
  },
  {
   "cell_type": "markdown",
   "metadata": {},
   "source": [
    "## Markowitz Efficient Portfolio Calculations"
   ]
  },
  {
   "cell_type": "code",
   "execution_count": 57,
   "metadata": {
    "collapsed": true
   },
   "outputs": [],
   "source": [
    "def portfolio_sharpe(return_df, weight_list):\n",
    "    risk = float(portfolio_risk(return_df, weight_list))\n",
    "    weight_t = np.matrix(weight_list)\n",
    "    mean = np.matrix(return_df.mean()).transpose()\n",
    "    sharpe = weight_t * mean / risk\n",
    "    return float(sharpe)\n",
    "\n",
    "def portfolio_e_return(return_df, weight_list):\n",
    "    weight_t = np.matrix(weight_list)\n",
    "    mean = np.matrix(return_df.mean()).transpose()\n",
    "    return float(weight_t * mean)\n",
    "\n",
    "def portfolio_risk(return_df, weight_list):\n",
    "    #Take in a PRICE_DF with columns being each stock's daily log_returns\n",
    "    #Take in WEIGHT_LIST with each list entry corresponding to the respective price_df\n",
    "    #column's weight in the portfolio\n",
    "    #PRICE_DF should be a concatenation of return series from return_series()\n",
    "    if (abs(sum(weight_list) - 1) > .01):\n",
    "        print(\"EROR: Weights do not sum to 1\");\n",
    "        return None\n",
    "    cov_matrix = np.matrix(return_df.cov())\n",
    "    weight_t = np.matrix(weight_list)\n",
    "    weight = weight_t.transpose()\n",
    "    variance = weight_t * cov_matrix * weight\n",
    "    return float(variance)"
   ]
  },
  {
   "cell_type": "code",
   "execution_count": null,
   "metadata": {
    "collapsed": false
   },
   "outputs": [],
   "source": []
  },
  {
   "cell_type": "code",
   "execution_count": 58,
   "metadata": {
    "collapsed": true
   },
   "outputs": [],
   "source": [
    "def efficient_frontier_plot(portfolio, n_obs):\n",
    "    count = 0\n",
    "    xyw = pd.DataFrame([[None,None]])\n",
    "    while count < n_obs:\n",
    "        weight_list = [random.uniform(0, 1) for i in range(1, len(portfolio.columns) + 1)]\n",
    "        \n",
    "        weight_list = [item / float(sum(weight_list)) for item in weight_list]\n",
    "        risk = portfolio_risk(portfolio, weight_list)\n",
    "        e_return = portfolio_e_return(portfolio, weight_list)\n",
    "        xyw = xyw.append([[math.sqrt(risk), e_return, weight_list]])\n",
    "        \n",
    "        count += 1\n",
    "    xyw.columns = ['x', 'y', 'w']\n",
    "    xyw['sharpe'] = xyw.y / xyw.x\n",
    "    xyw['y'] = xyw.y * 100\n",
    "    xyw.plot(title = \"Efficient Frontier from \" + str(n_obs) + \n",
    "             \" Sample Portfolios\", kind = 'scatter', y = 'y', x = 'x')\n",
    "    plt.figure()\n",
    "    plt.title(\"Histogram of Sample Sharpe Ratios\\nMean: \"+str(xyw.sharpe.mean()) + \"\\nSD: \" + str(xyw.sharpe.std()))\n",
    "    xyw.sharpe.hist(bins = 50)\n",
    "    plt.figure()\n",
    "    plt.title(\"Histogram of Sample Portfolio Variances\\nMean: \"+str(xyw.x.mean()) + \"\\nSD: \" + str(xyw.x.std()))\n",
    "    xyw.x.hist(bins = 50)\n",
    "    plt.figure()\n",
    "    plt.title(\"Histogram of Sample Portfolio Mean Returns\\nMean: \"+str((xyw.y / 100).mean()) + \"\\nSD: \" + str((xyw.y / 100).std()))\n",
    "    xyw.y.hist(bins = 50)\n",
    "    return xyw"
   ]
  },
  {
   "cell_type": "code",
   "execution_count": 59,
   "metadata": {
    "collapsed": false
   },
   "outputs": [],
   "source": [
    "def find_tangency_portfolio(portfolio, n_obs):\n",
    "    #finds tangency portfolio weights from n_obs number of samples\n",
    "    temp = efficient_frontier_plot(portfolio, n_obs)\n",
    "    return temp[temp.sharpe == temp.sharpe.max()].w[0]\n",
    "\n",
    "def find_optimal_portfolios(portfolio, n_obs, quantile_start, quantile_end):\n",
    "    #returns efficient frontier dataframe with only portfolio weights with \n",
    "    #a sharpe between the qth_start and qth_end quantile\n",
    "    temp = efficient_frontier_plot(portfolio, n_obs)\n",
    "    qth_start = find_quantile(temp.sharpe, quantile_start)\n",
    "    qth_end = find_quantile(temp.sharpe, quantile_end)\n",
    "\n",
    "    temp = temp[temp.sharpe < qth_end]\n",
    "    temp = temp[temp.sharpe > qth_start]\n",
    "    return temp\n",
    "\n"
   ]
  },
  {
   "cell_type": "code",
   "execution_count": 60,
   "metadata": {
    "collapsed": false
   },
   "outputs": [],
   "source": [
    "#a = find_tangency_portfolio(get(['AAPL', 'IBM', 'DE'], 'returns'), 1000)"
   ]
  },
  {
   "cell_type": "code",
   "execution_count": 62,
   "metadata": {
    "collapsed": false
   },
   "outputs": [
    {
     "data": {
      "text/html": [
       "<div style=\"max-height:1000px;max-width:1500px;overflow:auto;\">\n",
       "<table border=\"1\" class=\"dataframe\">\n",
       "  <thead>\n",
       "    <tr style=\"text-align: right;\">\n",
       "      <th></th>\n",
       "      <th>aapl</th>\n",
       "    </tr>\n",
       "    <tr>\n",
       "      <th>Date</th>\n",
       "      <th></th>\n",
       "    </tr>\n",
       "  </thead>\n",
       "  <tbody>\n",
       "    <tr>\n",
       "      <th>2015-10-26</th>\n",
       "      <td>-0.006353</td>\n",
       "    </tr>\n",
       "    <tr>\n",
       "      <th>2015-10-27</th>\n",
       "      <td> 0.040378</td>\n",
       "    </tr>\n",
       "    <tr>\n",
       "      <th>2015-10-28</th>\n",
       "      <td> 0.010509</td>\n",
       "    </tr>\n",
       "    <tr>\n",
       "      <th>2015-10-29</th>\n",
       "      <td>-0.008582</td>\n",
       "    </tr>\n",
       "    <tr>\n",
       "      <th>2015-10-30</th>\n",
       "      <td> 0.013961</td>\n",
       "    </tr>\n",
       "  </tbody>\n",
       "</table>\n",
       "<p>5 rows × 1 columns</p>\n",
       "</div>"
      ],
      "text/plain": [
       "                aapl\n",
       "Date                \n",
       "2015-10-26 -0.006353\n",
       "2015-10-27  0.040378\n",
       "2015-10-28  0.010509\n",
       "2015-10-29 -0.008582\n",
       "2015-10-30  0.013961\n",
       "\n",
       "[5 rows x 1 columns]"
      ]
     },
     "execution_count": 62,
     "metadata": {},
     "output_type": "execute_result"
    }
   ],
   "source": []
  },
  {
   "cell_type": "code",
   "execution_count": null,
   "metadata": {
    "collapsed": true
   },
   "outputs": [],
   "source": []
  },
  {
   "cell_type": "markdown",
   "metadata": {},
   "source": [
    "## Statistical Functions "
   ]
  },
  {
   "cell_type": "code",
   "execution_count": 19,
   "metadata": {
    "collapsed": true
   },
   "outputs": [],
   "source": [
    "def find_quantile(series, qth_percentile):\n",
    "    #returns the qth percentile element of the input series\n",
    "    #qth percentile = 95 takes the 95% quantile\n",
    "    return np.percentile(series, qth_percentile)\n",
    "\n",
    "def qq_plot(return_series, distribution = 'norm'):\n",
    "    scipy.stats.probplot(return_series, dist=distribution, plot=pylab, fit = True)\n",
    "\n",
    "def histogram(series):\n",
    "    series.hist()\n",
    "    pylab.suptitle(\"Samples = \" + str(len(series)) + \n",
    "               \"\\nMean = \" + str(series.mean()) + \n",
    "               \"\\nSTD = \" + str(series.std()))\n",
    "    \n",
    "    "
   ]
  },
  {
   "cell_type": "code",
   "execution_count": 20,
   "metadata": {
    "collapsed": false
   },
   "outputs": [],
   "source": [
    "def cov_heatmap(cov_df):\n",
    "    sns.heatmap(cov_df)\n",
    "    return"
   ]
  },
  {
   "cell_type": "markdown",
   "metadata": {},
   "source": [
    "## Fundamental Analysis"
   ]
  },
  {
   "cell_type": "code",
   "execution_count": 52,
   "metadata": {
    "collapsed": true
   },
   "outputs": [],
   "source": [
    "def get_eps(ticker_list):\n",
    "    final_df = pd.DataFrame()\n",
    "    for ticker in ticker_list:\n",
    "        try:\n",
    "            temp_df = Quandl.get(\"SEC/\" + ticker + \"_EARNINGSPERSHAREDILUTED_Q\", \n",
    "                                         authtoken=\"H4uWGQ3jQdm96V7H2Abm\")\n",
    "        except:\n",
    "            print(\"WARNING: Could not find EPS for \" + ticker)\n",
    "            continue;\n",
    "        temp_df.columns = [ticker]\n",
    "        if not final_df.equals(pd.DataFrame()):\n",
    "            final_df = pd.merge(final_df, temp_df, left_index = True, right_index = True,  how = 'outer')\n",
    "        else:\n",
    "            final_df = temp_df\n",
    "    final_df = final_df.fillna(method = 'ffill')\n",
    "    return final_df"
   ]
  },
  {
   "cell_type": "code",
   "execution_count": 53,
   "metadata": {
    "collapsed": false
   },
   "outputs": [],
   "source": [
    "def get_div(ticker_list):\n",
    "    final_df = pd.DataFrame()\n",
    "    for ticker in ticker_list:\n",
    "        try:\n",
    "            temp_df = Quandl.get((\"SEC/DIV_\" + ticker), \n",
    "                                         authtoken=\"H4uWGQ3jQdm96V7H2Abm\")\n",
    "        except:\n",
    "            print(\"WARNING: Could not find DIV for \" + ticker)\n",
    "            continue;\n",
    "        temp_df.columns = [ticker]\n",
    "        if not final_df.equals(pd.DataFrame()):\n",
    "            final_df = pd.merge(final_df, temp_df, left_index = True, right_index = True,  how = 'outer')\n",
    "        else:\n",
    "            final_df = temp_df\n",
    "    final_df = final_df.fillna(method = 'ffill')    \n",
    "    return final_df"
   ]
  },
  {
   "cell_type": "code",
   "execution_count": 22,
   "metadata": {
    "collapsed": false
   },
   "outputs": [],
   "source": [
    "def ally_df(ticker):\n",
    "    #returns latest eps and dividend for each date\n",
    "    #the first column is daily returns for the stock\n",
    "    price_df = get([ticker])\n",
    "    eps_df = get_eps([ticker])\n",
    "    div_df = get_div([ticker])\n",
    "    final_df = pd.merge(price_df, eps_df, right_index = True, left_index = True, how = 'left')\n",
    "    final_df = pd.merge(final_df, div_df, right_index = True, left_index = True, how = 'left')\n",
    "    final_df.columns = [ticker, 'EPS', 'DIV']\n",
    "    final_df.EPS = final_df.EPS.fillna(method = 'ffill')\n",
    "    final_df.DIV = final_df.DIV.fillna(method = 'ffill')\n",
    "    return final_df"
   ]
  },
  {
   "cell_type": "code",
   "execution_count": null,
   "metadata": {
    "collapsed": true
   },
   "outputs": [],
   "source": [
    "def div_dis_model(ticker, discount_rate):\n",
    "    temp = ally_df(ticker)\n",
    "\n",
    "\n",
    "    temp = temp.fillna(0)\n",
    "    temp['place'] = np.where(temp.DIV != temp.DIV.shift(1), 1, 0)\n",
    "\n",
    "    temp['exp'] = temp.place.cumsum()\n",
    "    temp['series_entry'] = np.where(temp.DIV != temp.DIV.shift(1), temp.DIV / (1 + discount_rate) ** (temp.exp), 0)\n",
    "    answer = temp.series_entry.sum()\n",
    "    return answer"
   ]
  },
  {
   "cell_type": "markdown",
   "metadata": {
    "collapsed": false
   },
   "source": [
    "## Get S&P 500 Tickers"
   ]
  },
  {
   "cell_type": "code",
   "execution_count": 23,
   "metadata": {
    "collapsed": false
   },
   "outputs": [],
   "source": [
    "def get_sp500():\n",
    "    temp = pd.read_csv(\"data/sp500_tickers.csv\")\n",
    "    temp.columns = ['ticker', 'name', 'sector']\n",
    "    temp = temp[temp.ticker != 'ICE']\n",
    "    return temp\n"
   ]
  },
  {
   "cell_type": "markdown",
   "metadata": {},
   "source": [
    "## >> CODE TESTING"
   ]
  },
  {
   "cell_type": "code",
   "execution_count": 24,
   "metadata": {
    "collapsed": false
   },
   "outputs": [],
   "source": [
    "#sp500 = get_sp500()\n",
    "#sp500_p = get([a for a in sp500.ticker[sp500.sector == 'Energy']], 'log_returns')\n",
    "port = get(['aapl', 'msft', 'ge', 'ba', 'de', 'f', 'coke', 'gs'])"
   ]
  },
  {
   "cell_type": "code",
   "execution_count": 51,
   "metadata": {
    "collapsed": false
   },
   "outputs": [
    {
     "data": {
      "text/plain": [
       "<matplotlib.axes.AxesSubplot at 0x10ce93210>"
      ]
     },
     "execution_count": 51,
     "metadata": {},
     "output_type": "execute_result"
    },
    {
     "data": {
      "image/png": "[encoded data removed]",
      "text/plain": [
       "<matplotlib.figure.Figure at 0x10c668790>"
      ]
     },
     "metadata": {},
     "output_type": "display_data"
    }
   ],
   "source": [
    "pd.rolling_corr(port['ge'], port['de'], window=500).plot()"
   ]
  },
  {
   "cell_type": "code",
   "execution_count": 12,
   "metadata": {
    "collapsed": true
   },
   "outputs": [],
   "source": [
    "def analyze_covariance(price_df, weight_list, reduced_size):\n",
    "    cov_df = price_df.cov()\n",
    "    p_risk = portfolio_risk(price_df, weight_list)\n",
    "    \n",
    "    \n",
    "    "
   ]
  },
  {
   "cell_type": "code",
   "execution_count": 25,
   "metadata": {
    "collapsed": false
   },
   "outputs": [],
   "source": [
    "r = requests.get(\"http://instrumentmasterservice/instrumentmaster.json/v1/instrument/MSFT/price?from=2015-10-01&to=2015-10-29\")"
   ]
  },
  {
   "cell_type": "code",
   "execution_count": 35,
   "metadata": {
    "collapsed": false
   },
   "outputs": [
    {
     "data": {
      "text/html": [
       "<div style=\"max-height:1000px;max-width:1500px;overflow:auto;\">\n",
       "<table border=\"1\" class=\"dataframe\">\n",
       "  <thead>\n",
       "    <tr style=\"text-align: right;\">\n",
       "      <th></th>\n",
       "      <th>changeFromLastClose</th>\n",
       "      <th>changeFromOpen</th>\n",
       "      <th>cummulativeCashDividend</th>\n",
       "      <th>cummulativeStockDividendRatio</th>\n",
       "      <th>currency</th>\n",
       "      <th>date</th>\n",
       "      <th>high</th>\n",
       "      <th>last</th>\n",
       "      <th>lastClose</th>\n",
       "      <th>low</th>\n",
       "      <th>open</th>\n",
       "      <th>percentChangeFromLastClose</th>\n",
       "      <th>percentChangeFromOpen</th>\n",
       "      <th>splitRatio</th>\n",
       "      <th>volume</th>\n",
       "    </tr>\n",
       "  </thead>\n",
       "  <tbody>\n",
       "    <tr>\n",
       "      <th>0 </th>\n",
       "      <td> 0.29</td>\n",
       "      <td> 0.440</td>\n",
       "      <td> 0</td>\n",
       "      <td> 1</td>\n",
       "      <td> USD</td>\n",
       "      <td>2015-10-28</td>\n",
       "      <td> 53.980</td>\n",
       "      <td> 53.98</td>\n",
       "      <td> 53.98</td>\n",
       "      <td> 52.860</td>\n",
       "      <td> 53.540</td>\n",
       "      <td>  0.5401</td>\n",
       "      <td> 0.8218</td>\n",
       "      <td> 1</td>\n",
       "      <td>  47000753</td>\n",
       "    </tr>\n",
       "    <tr>\n",
       "      <th>1 </th>\n",
       "      <td>-0.56</td>\n",
       "      <td>-0.300</td>\n",
       "      <td> 0</td>\n",
       "      <td> 1</td>\n",
       "      <td> USD</td>\n",
       "      <td>2015-10-27</td>\n",
       "      <td> 54.370</td>\n",
       "      <td> 53.69</td>\n",
       "      <td> 53.69</td>\n",
       "      <td> 53.580</td>\n",
       "      <td> 53.990</td>\n",
       "      <td> -1.0323</td>\n",
       "      <td>-0.5557</td>\n",
       "      <td> 1</td>\n",
       "      <td>  50999907</td>\n",
       "    </tr>\n",
       "    <tr>\n",
       "      <th>2 </th>\n",
       "      <td> 1.38</td>\n",
       "      <td> 1.720</td>\n",
       "      <td> 0</td>\n",
       "      <td> 1</td>\n",
       "      <td> USD</td>\n",
       "      <td>2015-10-26</td>\n",
       "      <td> 54.320</td>\n",
       "      <td> 54.25</td>\n",
       "      <td> 54.25</td>\n",
       "      <td> 52.500</td>\n",
       "      <td> 52.530</td>\n",
       "      <td>  2.6100</td>\n",
       "      <td> 3.2740</td>\n",
       "      <td> 1</td>\n",
       "      <td>  64633324</td>\n",
       "    </tr>\n",
       "    <tr>\n",
       "      <th>3 </th>\n",
       "      <td> 4.84</td>\n",
       "      <td> 0.570</td>\n",
       "      <td> 0</td>\n",
       "      <td> 1</td>\n",
       "      <td> USD</td>\n",
       "      <td>2015-10-23</td>\n",
       "      <td> 54.070</td>\n",
       "      <td> 52.87</td>\n",
       "      <td> 52.87</td>\n",
       "      <td> 52.250</td>\n",
       "      <td> 52.300</td>\n",
       "      <td> 10.0770</td>\n",
       "      <td> 1.0900</td>\n",
       "      <td> 1</td>\n",
       "      <td> 135227059</td>\n",
       "    </tr>\n",
       "    <tr>\n",
       "      <th>4 </th>\n",
       "      <td> 0.83</td>\n",
       "      <td> 0.500</td>\n",
       "      <td> 0</td>\n",
       "      <td> 1</td>\n",
       "      <td> USD</td>\n",
       "      <td>2015-10-22</td>\n",
       "      <td> 48.950</td>\n",
       "      <td> 48.03</td>\n",
       "      <td> 48.03</td>\n",
       "      <td> 47.090</td>\n",
       "      <td> 47.530</td>\n",
       "      <td>  1.7580</td>\n",
       "      <td> 1.0520</td>\n",
       "      <td> 1</td>\n",
       "      <td>  56637074</td>\n",
       "    </tr>\n",
       "    <tr>\n",
       "      <th>5 </th>\n",
       "      <td>-0.57</td>\n",
       "      <td>-0.720</td>\n",
       "      <td> 0</td>\n",
       "      <td> 1</td>\n",
       "      <td> USD</td>\n",
       "      <td>2015-10-21</td>\n",
       "      <td> 47.990</td>\n",
       "      <td> 47.20</td>\n",
       "      <td> 47.20</td>\n",
       "      <td> 47.110</td>\n",
       "      <td> 47.920</td>\n",
       "      <td> -1.1930</td>\n",
       "      <td>-1.5030</td>\n",
       "      <td> 1</td>\n",
       "      <td>  25264710</td>\n",
       "    </tr>\n",
       "    <tr>\n",
       "      <th>6 </th>\n",
       "      <td> 0.15</td>\n",
       "      <td> 0.330</td>\n",
       "      <td> 0</td>\n",
       "      <td> 1</td>\n",
       "      <td> USD</td>\n",
       "      <td>2015-10-20</td>\n",
       "      <td> 47.810</td>\n",
       "      <td> 47.77</td>\n",
       "      <td> 47.77</td>\n",
       "      <td> 47.020</td>\n",
       "      <td> 47.440</td>\n",
       "      <td>  0.3150</td>\n",
       "      <td> 0.6960</td>\n",
       "      <td> 1</td>\n",
       "      <td>  30802235</td>\n",
       "    </tr>\n",
       "    <tr>\n",
       "      <th>7 </th>\n",
       "      <td> 0.11</td>\n",
       "      <td> 0.200</td>\n",
       "      <td> 0</td>\n",
       "      <td> 1</td>\n",
       "      <td> USD</td>\n",
       "      <td>2015-10-19</td>\n",
       "      <td> 47.880</td>\n",
       "      <td> 47.62</td>\n",
       "      <td> 47.62</td>\n",
       "      <td> 47.020</td>\n",
       "      <td> 47.420</td>\n",
       "      <td>  0.2320</td>\n",
       "      <td> 0.4220</td>\n",
       "      <td> 1</td>\n",
       "      <td>  29387581</td>\n",
       "    </tr>\n",
       "    <tr>\n",
       "      <th>8 </th>\n",
       "      <td> 0.50</td>\n",
       "      <td> 0.490</td>\n",
       "      <td> 0</td>\n",
       "      <td> 1</td>\n",
       "      <td> USD</td>\n",
       "      <td>2015-10-16</td>\n",
       "      <td> 47.540</td>\n",
       "      <td> 47.51</td>\n",
       "      <td> 47.51</td>\n",
       "      <td> 46.897</td>\n",
       "      <td> 47.020</td>\n",
       "      <td>  1.0640</td>\n",
       "      <td> 1.0420</td>\n",
       "      <td> 1</td>\n",
       "      <td>  26450334</td>\n",
       "    </tr>\n",
       "    <tr>\n",
       "      <th>9 </th>\n",
       "      <td> 0.33</td>\n",
       "      <td> 0.000</td>\n",
       "      <td> 0</td>\n",
       "      <td> 1</td>\n",
       "      <td> USD</td>\n",
       "      <td>2015-10-15</td>\n",
       "      <td> 47.030</td>\n",
       "      <td> 47.01</td>\n",
       "      <td> 47.01</td>\n",
       "      <td> 46.530</td>\n",
       "      <td> 47.010</td>\n",
       "      <td>  0.7070</td>\n",
       "      <td> 0.0000</td>\n",
       "      <td> 1</td>\n",
       "      <td>  27189370</td>\n",
       "    </tr>\n",
       "    <tr>\n",
       "      <th>10</th>\n",
       "      <td>-0.21</td>\n",
       "      <td> 0.030</td>\n",
       "      <td> 0</td>\n",
       "      <td> 1</td>\n",
       "      <td> USD</td>\n",
       "      <td>2015-10-14</td>\n",
       "      <td> 47.100</td>\n",
       "      <td> 46.68</td>\n",
       "      <td> 46.68</td>\n",
       "      <td> 46.530</td>\n",
       "      <td> 46.650</td>\n",
       "      <td> -0.4480</td>\n",
       "      <td> 0.0640</td>\n",
       "      <td> 1</td>\n",
       "      <td>  24697766</td>\n",
       "    </tr>\n",
       "    <tr>\n",
       "      <th>11</th>\n",
       "      <td>-0.11</td>\n",
       "      <td> 0.330</td>\n",
       "      <td> 0</td>\n",
       "      <td> 1</td>\n",
       "      <td> USD</td>\n",
       "      <td>2015-10-13</td>\n",
       "      <td> 47.130</td>\n",
       "      <td> 46.89</td>\n",
       "      <td> 46.89</td>\n",
       "      <td> 46.560</td>\n",
       "      <td> 46.560</td>\n",
       "      <td> -0.2340</td>\n",
       "      <td> 0.7090</td>\n",
       "      <td> 1</td>\n",
       "      <td>  19987816</td>\n",
       "    </tr>\n",
       "    <tr>\n",
       "      <th>12</th>\n",
       "      <td>-0.11</td>\n",
       "      <td> 0.020</td>\n",
       "      <td> 0</td>\n",
       "      <td> 1</td>\n",
       "      <td> USD</td>\n",
       "      <td>2015-10-12</td>\n",
       "      <td> 47.070</td>\n",
       "      <td> 47.00</td>\n",
       "      <td> 47.00</td>\n",
       "      <td> 46.500</td>\n",
       "      <td> 46.980</td>\n",
       "      <td> -0.2330</td>\n",
       "      <td> 0.0430</td>\n",
       "      <td> 1</td>\n",
       "      <td>  19769066</td>\n",
       "    </tr>\n",
       "    <tr>\n",
       "      <th>13</th>\n",
       "      <td>-0.34</td>\n",
       "      <td>-0.340</td>\n",
       "      <td> 0</td>\n",
       "      <td> 1</td>\n",
       "      <td> USD</td>\n",
       "      <td>2015-10-09</td>\n",
       "      <td> 47.540</td>\n",
       "      <td> 47.11</td>\n",
       "      <td> 47.11</td>\n",
       "      <td> 46.920</td>\n",
       "      <td> 47.450</td>\n",
       "      <td> -0.7170</td>\n",
       "      <td>-0.7170</td>\n",
       "      <td> 1</td>\n",
       "      <td>  28600632</td>\n",
       "    </tr>\n",
       "    <tr>\n",
       "      <th>14</th>\n",
       "      <td> 0.65</td>\n",
       "      <td> 0.890</td>\n",
       "      <td> 0</td>\n",
       "      <td> 1</td>\n",
       "      <td> USD</td>\n",
       "      <td>2015-10-08</td>\n",
       "      <td> 47.515</td>\n",
       "      <td> 47.45</td>\n",
       "      <td> 47.45</td>\n",
       "      <td> 46.500</td>\n",
       "      <td> 46.560</td>\n",
       "      <td>  1.3890</td>\n",
       "      <td> 1.9120</td>\n",
       "      <td> 1</td>\n",
       "      <td>  33772709</td>\n",
       "    </tr>\n",
       "    <tr>\n",
       "      <th>15</th>\n",
       "      <td> 0.05</td>\n",
       "      <td>-0.300</td>\n",
       "      <td> 0</td>\n",
       "      <td> 1</td>\n",
       "      <td> USD</td>\n",
       "      <td>2015-10-07</td>\n",
       "      <td> 47.350</td>\n",
       "      <td> 46.80</td>\n",
       "      <td> 46.80</td>\n",
       "      <td> 45.950</td>\n",
       "      <td> 47.100</td>\n",
       "      <td>  0.1070</td>\n",
       "      <td>-0.6370</td>\n",
       "      <td> 1</td>\n",
       "      <td>  27711492</td>\n",
       "    </tr>\n",
       "    <tr>\n",
       "      <th>16</th>\n",
       "      <td> 0.12</td>\n",
       "      <td> 0.420</td>\n",
       "      <td> 0</td>\n",
       "      <td> 1</td>\n",
       "      <td> USD</td>\n",
       "      <td>2015-10-06</td>\n",
       "      <td> 47.175</td>\n",
       "      <td> 46.75</td>\n",
       "      <td> 46.75</td>\n",
       "      <td> 46.220</td>\n",
       "      <td> 46.330</td>\n",
       "      <td>  0.2570</td>\n",
       "      <td> 0.9070</td>\n",
       "      <td> 1</td>\n",
       "      <td>  27510808</td>\n",
       "    </tr>\n",
       "    <tr>\n",
       "      <th>17</th>\n",
       "      <td> 1.06</td>\n",
       "      <td> 0.885</td>\n",
       "      <td> 0</td>\n",
       "      <td> 1</td>\n",
       "      <td> USD</td>\n",
       "      <td>2015-10-05</td>\n",
       "      <td> 46.890</td>\n",
       "      <td> 46.63</td>\n",
       "      <td> 46.63</td>\n",
       "      <td> 45.700</td>\n",
       "      <td> 45.745</td>\n",
       "      <td>  2.3260</td>\n",
       "      <td> 1.9350</td>\n",
       "      <td> 1</td>\n",
       "      <td>  34369286</td>\n",
       "    </tr>\n",
       "    <tr>\n",
       "      <th>18</th>\n",
       "      <td> 0.96</td>\n",
       "      <td> 1.300</td>\n",
       "      <td> 0</td>\n",
       "      <td> 1</td>\n",
       "      <td> USD</td>\n",
       "      <td>2015-10-02</td>\n",
       "      <td> 45.570</td>\n",
       "      <td> 45.57</td>\n",
       "      <td> 45.57</td>\n",
       "      <td> 43.920</td>\n",
       "      <td> 44.270</td>\n",
       "      <td>  2.1520</td>\n",
       "      <td> 2.9370</td>\n",
       "      <td> 1</td>\n",
       "      <td>  41839035</td>\n",
       "    </tr>\n",
       "    <tr>\n",
       "      <th>19</th>\n",
       "      <td> 0.35</td>\n",
       "      <td>-0.140</td>\n",
       "      <td> 0</td>\n",
       "      <td> 1</td>\n",
       "      <td> USD</td>\n",
       "      <td>2015-10-01</td>\n",
       "      <td> 44.750</td>\n",
       "      <td> 44.61</td>\n",
       "      <td> 44.61</td>\n",
       "      <td> 43.750</td>\n",
       "      <td> 44.750</td>\n",
       "      <td>  0.7910</td>\n",
       "      <td>-0.3130</td>\n",
       "      <td> 1</td>\n",
       "      <td>  28657859</td>\n",
       "    </tr>\n",
       "  </tbody>\n",
       "</table>\n",
       "<p>20 rows × 15 columns</p>\n",
       "</div>"
      ],
      "text/plain": [
       "    changeFromLastClose  changeFromOpen  cummulativeCashDividend  \\\n",
       "0                  0.29           0.440                        0   \n",
       "1                 -0.56          -0.300                        0   \n",
       "2                  1.38           1.720                        0   \n",
       "3                  4.84           0.570                        0   \n",
       "4                  0.83           0.500                        0   \n",
       "5                 -0.57          -0.720                        0   \n",
       "6                  0.15           0.330                        0   \n",
       "7                  0.11           0.200                        0   \n",
       "8                  0.50           0.490                        0   \n",
       "9                  0.33           0.000                        0   \n",
       "10                -0.21           0.030                        0   \n",
       "11                -0.11           0.330                        0   \n",
       "12                -0.11           0.020                        0   \n",
       "13                -0.34          -0.340                        0   \n",
       "14                 0.65           0.890                        0   \n",
       "15                 0.05          -0.300                        0   \n",
       "16                 0.12           0.420                        0   \n",
       "17                 1.06           0.885                        0   \n",
       "18                 0.96           1.300                        0   \n",
       "19                 0.35          -0.140                        0   \n",
       "\n",
       "    cummulativeStockDividendRatio currency       date    high   last  \\\n",
       "0                               1      USD 2015-10-28  53.980  53.98   \n",
       "1                               1      USD 2015-10-27  54.370  53.69   \n",
       "2                               1      USD 2015-10-26  54.320  54.25   \n",
       "3                               1      USD 2015-10-23  54.070  52.87   \n",
       "4                               1      USD 2015-10-22  48.950  48.03   \n",
       "5                               1      USD 2015-10-21  47.990  47.20   \n",
       "6                               1      USD 2015-10-20  47.810  47.77   \n",
       "7                               1      USD 2015-10-19  47.880  47.62   \n",
       "8                               1      USD 2015-10-16  47.540  47.51   \n",
       "9                               1      USD 2015-10-15  47.030  47.01   \n",
       "10                              1      USD 2015-10-14  47.100  46.68   \n",
       "11                              1      USD 2015-10-13  47.130  46.89   \n",
       "12                              1      USD 2015-10-12  47.070  47.00   \n",
       "13                              1      USD 2015-10-09  47.540  47.11   \n",
       "14                              1      USD 2015-10-08  47.515  47.45   \n",
       "15                              1      USD 2015-10-07  47.350  46.80   \n",
       "16                              1      USD 2015-10-06  47.175  46.75   \n",
       "17                              1      USD 2015-10-05  46.890  46.63   \n",
       "18                              1      USD 2015-10-02  45.570  45.57   \n",
       "19                              1      USD 2015-10-01  44.750  44.61   \n",
       "\n",
       "    lastClose     low    open  percentChangeFromLastClose  \\\n",
       "0       53.98  52.860  53.540                      0.5401   \n",
       "1       53.69  53.580  53.990                     -1.0323   \n",
       "2       54.25  52.500  52.530                      2.6100   \n",
       "3       52.87  52.250  52.300                     10.0770   \n",
       "4       48.03  47.090  47.530                      1.7580   \n",
       "5       47.20  47.110  47.920                     -1.1930   \n",
       "6       47.77  47.020  47.440                      0.3150   \n",
       "7       47.62  47.020  47.420                      0.2320   \n",
       "8       47.51  46.897  47.020                      1.0640   \n",
       "9       47.01  46.530  47.010                      0.7070   \n",
       "10      46.68  46.530  46.650                     -0.4480   \n",
       "11      46.89  46.560  46.560                     -0.2340   \n",
       "12      47.00  46.500  46.980                     -0.2330   \n",
       "13      47.11  46.920  47.450                     -0.7170   \n",
       "14      47.45  46.500  46.560                      1.3890   \n",
       "15      46.80  45.950  47.100                      0.1070   \n",
       "16      46.75  46.220  46.330                      0.2570   \n",
       "17      46.63  45.700  45.745                      2.3260   \n",
       "18      45.57  43.920  44.270                      2.1520   \n",
       "19      44.61  43.750  44.750                      0.7910   \n",
       "\n",
       "    percentChangeFromOpen  splitRatio     volume  \n",
       "0                  0.8218           1   47000753  \n",
       "1                 -0.5557           1   50999907  \n",
       "2                  3.2740           1   64633324  \n",
       "3                  1.0900           1  135227059  \n",
       "4                  1.0520           1   56637074  \n",
       "5                 -1.5030           1   25264710  \n",
       "6                  0.6960           1   30802235  \n",
       "7                  0.4220           1   29387581  \n",
       "8                  1.0420           1   26450334  \n",
       "9                  0.0000           1   27189370  \n",
       "10                 0.0640           1   24697766  \n",
       "11                 0.7090           1   19987816  \n",
       "12                 0.0430           1   19769066  \n",
       "13                -0.7170           1   28600632  \n",
       "14                 1.9120           1   33772709  \n",
       "15                -0.6370           1   27711492  \n",
       "16                 0.9070           1   27510808  \n",
       "17                 1.9350           1   34369286  \n",
       "18                 2.9370           1   41839035  \n",
       "19                -0.3130           1   28657859  \n",
       "\n",
       "[20 rows x 15 columns]"
      ]
     },
     "execution_count": 35,
     "metadata": {},
     "output_type": "execute_result"
    }
   ],
   "source": [
    "pd.read_json(\"http://instrumentmasterservice/instrumentmaster.json/v1/instrument/MSFT/price?from=2015-10-01&to=2015-10-29\")"
   ]
  },
  {
   "cell_type": "code",
   "execution_count": 63,
   "metadata": {
    "collapsed": false
   },
   "outputs": [],
   "source": [
    "temp = get(['AAPL', 'IBM', 'GE', 'BA'], 'log_returns')"
   ]
  },
  {
   "cell_type": "code",
   "execution_count": 73,
   "metadata": {
    "collapsed": false
   },
   "outputs": [
    {
     "data": {
      "text/plain": [
       "matrix([[ 0.00172632,  0.00017263,  0.00019241,  0.00015067],\n",
       "        [ 0.00017263,  0.00024332,  0.00016244,  0.00012195],\n",
       "        [ 0.00019241,  0.00016244,  0.00038269,  0.00019067],\n",
       "        [ 0.00015067,  0.00012195,  0.00019067,  0.00035773]])"
      ]
     },
     "execution_count": 73,
     "metadata": {},
     "output_type": "execute_result"
    }
   ],
   "source": [
    "#Get log returns dataframe\n",
    "temp = get(['AAPL', 'IBM', 'GE', 'BA'], 'log_returns')\n",
    "#Make mean return vector\n",
    "mean = np.matrix(temp.mean()).transpose()\n",
    "#Make weight vector\n",
    "w = np.matrix([.4, .2, .1, .3])\n",
    "#Make Covaraince matrix of returns\n",
    "np.matrix(temp.cov())"
   ]
  },
  {
   "cell_type": "code",
   "execution_count": null,
   "metadata": {
    "collapsed": true
   },
   "outputs": [],
   "source": []
  },
  {
   "cell_type": "code",
   "execution_count": null,
   "metadata": {
    "collapsed": false
   },
   "outputs": [],
   "source": []
  },
  {
   "cell_type": "code",
   "execution_count": null,
   "metadata": {
    "collapsed": true
   },
   "outputs": [],
   "source": []
  },
  {
   "cell_type": "code",
   "execution_count": 44,
   "metadata": {
    "collapsed": false
   },
   "outputs": [],
   "source": [
    "a=get_sp500()\n",
    "temp = [a for a in a.ticker]\n",
    "temp = ally_df('IBM')\n"
   ]
  },
  {
   "cell_type": "code",
   "execution_count": 60,
   "metadata": {
    "collapsed": false
   },
   "outputs": [
    {
     "data": {
      "text/plain": [
       "4.5705690082486017"
      ]
     },
     "execution_count": 60,
     "metadata": {},
     "output_type": "execute_result"
    }
   ],
   "source": [
    "temp = ally_df('IBM')\n",
    "\n",
    "\n",
    "temp = temp.fillna(0)\n",
    "temp['place'] = np.where(temp.DIV != temp.DIV.shift(1), 1, 0)\n",
    "\n",
    "temp['exp'] = temp.place.cumsum()\n",
    "temp['series_entry'] = np.where(temp.DIV != temp.DIV.shift(1), temp.DIV / (1 + .05) ** (temp.exp), 0)\n",
    "answer = temp.series_entry.sum()\n",
    "answer"
   ]
  },
  {
   "cell_type": "code",
   "execution_count": 102,
   "metadata": {
    "collapsed": false
   },
   "outputs": [
    {
     "data": {
      "image/png": "[encoded data removed]",
      "text/plain": [
       "<matplotlib.figure.Figure at 0x10c89c390>"
      ]
     },
     "metadata": {},
     "output_type": "display_data"
    }
   ],
   "source": [
    "histogram(eps_df.std())"
   ]
  },
  {
   "cell_type": "code",
   "execution_count": null,
   "metadata": {
    "collapsed": true
   },
   "outputs": [],
   "source": []
  },
  {
   "cell_type": "code",
   "execution_count": null,
   "metadata": {
    "collapsed": false
   },
   "outputs": [],
   "source": []
  },
  {
   "cell_type": "code",
   "execution_count": null,
   "metadata": {
    "collapsed": false
   },
   "outputs": [],
   "source": []
  },
  {
   "cell_type": "code",
   "execution_count": null,
   "metadata": {
    "collapsed": false
   },
   "outputs": [],
   "source": []
  },
  {
   "cell_type": "code",
   "execution_count": 4,
   "metadata": {
    "collapsed": false
   },
   "outputs": [],
   "source": [
    "portfolio = get(['msft', 'mu', 'f', 'gs', 'ge', 'cvx', 'gs', 'ups', 'luv'], 'log_returns')"
   ]
  },
  {
   "cell_type": "code",
   "execution_count": null,
   "metadata": {
    "collapsed": false
   },
   "outputs": [],
   "source": []
  },
  {
   "cell_type": "code",
   "execution_count": 16,
   "metadata": {
    "collapsed": false
   },
   "outputs": [
    {
     "data": {
      "text/plain": [
       "-0.11761119743087618"
      ]
     },
     "execution_count": 16,
     "metadata": {},
     "output_type": "execute_result"
    }
   ],
   "source": [
    "portfolio_sharpe(portfolio, [.2, .2, .4, .2])\n"
   ]
  },
  {
   "cell_type": "code",
   "execution_count": null,
   "metadata": {
    "collapsed": true
   },
   "outputs": [],
   "source": [
    "\n"
   ]
  },
  {
   "cell_type": "code",
   "execution_count": null,
   "metadata": {
    "collapsed": false
   },
   "outputs": [],
   "source": []
  },
  {
   "cell_type": "code",
   "execution_count": null,
   "metadata": {
    "collapsed": true
   },
   "outputs": [],
   "source": []
  },
  {
   "cell_type": "code",
   "execution_count": null,
   "metadata": {
    "collapsed": true
   },
   "outputs": [],
   "source": []
  },
  {
   "cell_type": "code",
   "execution_count": null,
   "metadata": {
    "collapsed": false
   },
   "outputs": [],
   "source": []
  },
  {
   "cell_type": "code",
   "execution_count": null,
   "metadata": {
    "collapsed": true
   },
   "outputs": [],
   "source": []
  }
 ],
 "metadata": {
  "kernelspec": {
   "display_name": "Python 2",
   "language": "python",
   "name": "python2"
  },
  "language_info": {
   "codemirror_mode": {
    "name": "ipython",
    "version": 2
   },
   "file_extension": ".py",
   "mimetype": "text/x-python",
   "name": "python",
   "nbconvert_exporter": "python",
   "pygments_lexer": "ipython2",
   "version": "2.7.6"
  }
 },
 "nbformat": 4,
 "nbformat_minor": 0
}
