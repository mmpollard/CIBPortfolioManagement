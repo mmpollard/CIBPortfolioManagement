{
 "cells": [
  {
   "cell_type": "code",
   "execution_count": null,
   "metadata": {
    "collapsed": true
   },
   "outputs": [],
   "source": [
    "import numpy as np\n",
    "import pandas as pd\n",
    "import math\n",
    "import scipy\n",
    "import matplotlib\n",
    "import matplotlib.pyplot as plt\n",
    "import matplotlib.pylab as pylab\n",
    "import os\n",
    "\n",
    "%matplotlib inline  \n",
    "pd.options.display.mpl_style = 'default'\n",
    "pylab.rcParams['figure.figsize'] = 12, 6 "
   ]
  },
  {
   "cell_type": "code",
   "execution_count": null,
   "metadata": {
    "collapsed": false
   },
   "outputs": [],
   "source": [
    "ge = get(\"GE\")\n",
    "ibm = get('IBM')\n",
    "msft = get('MSFT')\n",
    "ebay = get(\"EBAY\")\n",
    "swks = get(\"SWKS\")\n",
    "cvx = get(\"CVX\")\n",
    "mu = get('MU')\n",
    "gild = get(\"GILD\")\n",
    "aapl = get('AAPL')"
   ]
  },
  {
   "cell_type": "code",
   "execution_count": null,
   "metadata": {
    "collapsed": true
   },
   "outputs": [],
   "source": []
  },
  {
   "cell_type": "code",
   "execution_count": 1,
   "metadata": {
    "collapsed": false
   },
   "outputs": [],
   "source": [
    "def get(ticker):\n",
    "    temp_df = pd.read_csv(\"https://www.quandl.com/api/v3/datasets/YAHOO/\"+ticker+\".csv\")\n",
    "    temp_df.index = pd.to_datetime(temp_df.Date)\n",
    "    temp_df = temp_df.sort()\n",
    "    return temp_df"
   ]
  },
  {
   "cell_type": "code",
   "execution_count": 8,
   "metadata": {
    "collapsed": false
   },
   "outputs": [],
   "source": [
    "portfolio = pd.DataFrame()\n",
    "portfolio=portfolio.append(aapl.Close)\n",
    "portfolio=portfolio.append(ge.Close)\n",
    "portfolio=portfolio.append(mu.Close)\n",
    "portfolio=portfolio.append(aapl.Close)\n",
    "\n",
    "\n",
    "portfolio = portfolio.transpose()\n",
    "portfolio.columns = ['aapl', 'ge', 'none', 'mu']\n",
    "portfolio = portfolio[['aapl', 'ge', 'mu']]\n",
    "portfolio = portfolio.diff()\n",
    "#portfolio"
   ]
  },
  {
   "cell_type": "code",
   "execution_count": 12,
   "metadata": {
    "collapsed": false
   },
   "outputs": [
    {
     "data": {
      "text/plain": [
       "matrix([[ 0.06976648]])"
      ]
     },
     "execution_count": 12,
     "metadata": {},
     "output_type": "execute_result"
    }
   ],
   "source": [
    "risk = portfolio_risk(portfolio, [.3, .3, .4])\n",
    "return1 = np.matrix(portfolio.mean())\n",
    "return1 * np.matrix([.3, .3, .4]).transpose()\n",
    "sharpe = return1 * np.matrix([.3, .3, .4]).transpose() / risk\n",
    "sharpe * 240\n"
   ]
  },
  {
   "cell_type": "code",
   "execution_count": 9,
   "metadata": {
    "collapsed": false
   },
   "outputs": [],
   "source": [
    "def portfolio_risk(price_df, weight_list):\n",
    "    #Take in a PRICE_DF with columns being each stock's daily log_returns\n",
    "    #Take in WEIGHT_LIST with each list entry corresponding to the respective price_df\n",
    "    #column's weight in the portfolio\n",
    "    #PRICE_DF should be a concatenation of return series from return_series()\n",
    "    if (sum(weight_list) != 1):\n",
    "        print(\"EROR: Weights do not sum to 1\");\n",
    "        return None\n",
    "    cov_matrix = np.matrix(price_df.cov())\n",
    "    weight_t = np.matrix(weight_list)\n",
    "    weight = weight_t.transpose()\n",
    "    variance = weight_t * cov_matrix * weight\n",
    "    return variance\n",
    "    "
   ]
  },
  {
   "cell_type": "code",
   "execution_count": 28,
   "metadata": {
    "collapsed": false
   },
   "outputs": [
    {
     "data": {
      "text/plain": [
       "matrix([[ 95.25385787]])"
      ]
     },
     "execution_count": 28,
     "metadata": {},
     "output_type": "execute_result"
    }
   ],
   "source": [
    "portfolio_risk(returns[['ge', 'msft', 'aapl', 'mu']], [.2, .2, .4, .2])\n",
    "\n"
   ]
  },
  {
   "cell_type": "code",
   "execution_count": 43,
   "metadata": {
    "collapsed": true
   },
   "outputs": [],
   "source": [
    "def return_series(price_df, col):\n",
    "    #Take in a price_df for one security\n",
    "    #Return a series of the daily log returns of the price_df[col] column\n",
    "    price_df.index = pd.to_datetime(price_df.Date)\n",
    "    price_df = price_df.sort()\n",
    "    rets = np.log(price_df[col]).diff()\n",
    "    return (rets)\n"
   ]
  },
  {
   "cell_type": "code",
   "execution_count": 45,
   "metadata": {
    "collapsed": false
   },
   "outputs": [
    {
     "data": {
      "text/plain": [
       "Date\n",
       "2000-01-03         NaN\n",
       "2000-01-04   -0.088080\n",
       "2000-01-05    0.014530\n",
       "2000-01-06   -0.090514\n",
       "2000-01-07    0.046280\n",
       "2000-01-10   -0.017744\n",
       "2000-01-11   -0.052505\n",
       "2000-01-12   -0.061846\n",
       "2000-01-13    0.104070\n",
       "2000-01-14    0.037403\n",
       "2000-01-18    0.034254\n",
       "2000-01-19    0.024942\n",
       "2000-01-20    0.063072\n",
       "2000-01-21   -0.019460\n",
       "2000-01-24   -0.046548\n",
       "...\n",
       "2015-08-10    0.035712\n",
       "2015-08-11   -0.053441\n",
       "2015-08-12    0.015302\n",
       "2015-08-13   -0.000781\n",
       "2015-08-14    0.007010\n",
       "2015-08-17    0.010295\n",
       "2015-08-18   -0.005649\n",
       "2015-08-19   -0.012872\n",
       "2015-08-20   -0.020733\n",
       "2015-08-21   -0.063113\n",
       "2015-08-24   -0.025279\n",
       "2015-08-25    0.005994\n",
       "2015-08-26    0.055770\n",
       "2015-08-27    0.029021\n",
       "2015-08-28    0.003271\n",
       "Name: mu, Length: 3939"
      ]
     },
     "execution_count": 45,
     "metadata": {},
     "output_type": "execute_result"
    }
   ],
   "source": [
    "return_series(aapl, \"mu\")"
   ]
  },
  {
   "cell_type": "code",
   "execution_count": null,
   "metadata": {
    "collapsed": true
   },
   "outputs": [],
   "source": []
  },
  {
   "cell_type": "code",
   "execution_count": null,
   "metadata": {
    "collapsed": true
   },
   "outputs": [],
   "source": []
  },
  {
   "cell_type": "code",
   "execution_count": 210,
   "metadata": {
    "collapsed": false
   },
   "outputs": [],
   "source": [
    "def strat1(ticker):\n",
    "    def get(ticker):\n",
    "        temp_df = pd.read_csv(\"https://www.quandl.com/api/v3/datasets/YAHOO/\"+ticker+\".csv\")\n",
    "        temp_df.index = pd.to_datetime(temp_df.Date)\n",
    "        temp_df = temp_df.sort()\n",
    "        return temp_df\n",
    "    ret_df = get(ticker)\n",
    "    ret_df['ret'] = ret_df.Close.shift(-1) - ret_df.Close\n",
    "    return_df = ret_df\n",
    "    return_df['day1'] = np.where(return_df.ret > return_df.ret.shift(1), 1, 0)\n",
    "    return_df['five_days'] = np.where(return_df.day1 + return_df.day1.shift(1) +\n",
    "                                 return_df.day1.shift(2) + return_df.day1.shift(3) +\n",
    "                                 return_df.day1.shift(4) + return_df.day1.shift(5) == 5, 1, 0)\n",
    "    return_df['trade_yes'] = np.where(return_df.five_days == 1, 1, 0)\n",
    "    return_df['ret_long'] = np.where(return_df.trade_yes == 1, return_df.ret + return_df.ret.shift(-1) +\n",
    "                                 return_df.ret.shift(-2) + return_df.ret.shift(-3) +\n",
    "                                 return_df.ret.shift(-4) + return_df.ret.shift(-5), 0)\n",
    "    return_df['ret_short'] = -1 * return_df.ret_long\n",
    "    return_df = return_df[return_df.index.year > 2000]\n",
    "    length = return_df.ret_long.size / 15\n",
    "    sharpe_df = return_df.ret_long.cumsum()[::length].shift(-1) - return_df.ret_long.cumsum()[::length]\n",
    "    yearly_sharpe = sharpe_df.mean() / sharpe_df.std()\n",
    "    return_df.ret_long.cumsum().plot(title = ticker+ \"\\n--Five Day Trade--\\nSharpe = \" + str(yearly_sharpe));\n",
    "    return return_df"
   ]
  }
 ],
 "metadata": {
  "kernelspec": {
   "display_name": "Python 2",
   "language": "python",
   "name": "python2"
  },
  "language_info": {
   "codemirror_mode": {
    "name": "ipython",
    "version": 2
   },
   "file_extension": ".py",
   "mimetype": "text/x-python",
   "name": "python",
   "nbconvert_exporter": "python",
   "pygments_lexer": "ipython2",
   "version": "2.7.6"
  }
 },
 "nbformat": 4,
 "nbformat_minor": 0
}
