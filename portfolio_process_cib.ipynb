{
 "cells": [
  {
   "cell_type": "code",
   "execution_count": 1,
   "metadata": {
    "collapsed": false
   },
   "outputs": [],
   "source": [
    "import Quandl\n",
    "import numpy as np\n",
    "import pandas as pd\n",
    "import math\n",
    "import scipy\n",
    "import matplotlib\n",
    "import matplotlib.pyplot as plt\n",
    "import matplotlib.pylab as pylab\n",
    "import os\n",
    "\n",
    "%matplotlib inline  \n",
    "pd.options.display.mpl_style = 'default'\n",
    "pylab.rcParams['figure.figsize'] = 12, 6 "
   ]
  },
  {
   "cell_type": "code",
   "execution_count": 2,
   "metadata": {
    "collapsed": false
   },
   "outputs": [],
   "source": [
    "def get(ticker_list, kind = 'log_returns'):\n",
    "    #takes in a ticker list and returns either a dataframe of closing price 'returns'\n",
    "    #for each stock or closing 'prices'\n",
    "    final_df = pd.DataFrame()\n",
    "    for item in ticker_list:\n",
    "        ticker = item\n",
    "        temp_df = Quandl.get('YAHOO/'+str(ticker), \n",
    "                                         trim_start='2001-01-01', authtoken=\"H4uWGQ3jQdm96V7H2Abm\")\n",
    "        temp_df.index = pd.to_datetime(temp_df.index)\n",
    "        temp_df = temp_df.sort()\n",
    "        if (kind == 'prices'):\n",
    "            add_series = temp_df.Close\n",
    "        elif (kind == 'log_prices'):\n",
    "            add_series = np.log(temp_df.Close);\n",
    "        elif (kind == 'returns'):\n",
    "            add_series = temp_df.Close.shift(-1) - temp_df.Close\n",
    "        else:\n",
    "            add_series = np.log(temp_df.Close).shift(-1) - np.log(temp_df.Close)\n",
    "        final_df[ticker] = add_series\n",
    "        \n",
    "\n",
    "    final_df = final_df.sort()\n",
    "    return final_df\n"
   ]
  },
  {
   "cell_type": "code",
   "execution_count": 30,
   "metadata": {
    "collapsed": false
   },
   "outputs": [],
   "source": [
    "def portfolio_sharpe(return_df, weight_list):\n",
    "    risk = float(portfolio_risk(return_df, weight_list))\n",
    "    weight_t = np.matrix(weight_list)\n",
    "    mean = np.matrix(return_df.mean()).transpose()\n",
    "    sharpe = weight_t * mean / risk\n",
    "    \n",
    "\n",
    "def portfolio_risk(return_df, weight_list):\n",
    "    #Take in a PRICE_DF with columns being each stock's daily log_returns\n",
    "    #Take in WEIGHT_LIST with each list entry corresponding to the respective price_df\n",
    "    #column's weight in the portfolio\n",
    "    #PRICE_DF should be a concatenation of return series from return_series()\n",
    "    if (sum(weight_list) != 1):\n",
    "        print(\"EROR: Weights do not sum to 1\");\n",
    "        return None\n",
    "    cov_matrix = np.matrix(return_df.cov())\n",
    "    weight_t = np.matrix(weight_list)\n",
    "    weight = weight_t.transpose()\n",
    "    variance = weight_t * cov_matrix * weight\n",
    "    return variance\n",
    "    "
   ]
  },
  {
   "cell_type": "code",
   "execution_count": null,
   "metadata": {
    "collapsed": false
   },
   "outputs": [],
   "source": []
  },
  {
   "cell_type": "code",
   "execution_count": null,
   "metadata": {
    "collapsed": false
   },
   "outputs": [],
   "source": []
  },
  {
   "cell_type": "code",
   "execution_count": 31,
   "metadata": {
    "collapsed": false
   },
   "outputs": [],
   "source": [
    "portfolio = get(['msft', 'mu', 'f', 'gs'])"
   ]
  },
  {
   "cell_type": "code",
   "execution_count": null,
   "metadata": {
    "collapsed": false
   },
   "outputs": [],
   "source": [
    "\n"
   ]
  },
  {
   "cell_type": "code",
   "execution_count": 32,
   "metadata": {
    "collapsed": false
   },
   "outputs": [],
   "source": [
    "(portfolio_sharpe(portfolio, [.2, .2, .4, .2]))\n"
   ]
  },
  {
   "cell_type": "code",
   "execution_count": null,
   "metadata": {
    "collapsed": true
   },
   "outputs": [],
   "source": [
    "\n"
   ]
  },
  {
   "cell_type": "code",
   "execution_count": null,
   "metadata": {
    "collapsed": false
   },
   "outputs": [],
   "source": []
  },
  {
   "cell_type": "code",
   "execution_count": null,
   "metadata": {
    "collapsed": true
   },
   "outputs": [],
   "source": []
  },
  {
   "cell_type": "code",
   "execution_count": null,
   "metadata": {
    "collapsed": true
   },
   "outputs": [],
   "source": []
  },
  {
   "cell_type": "code",
   "execution_count": null,
   "metadata": {
    "collapsed": false
   },
   "outputs": [],
   "source": []
  },
  {
   "cell_type": "code",
   "execution_count": null,
   "metadata": {
    "collapsed": true
   },
   "outputs": [],
   "source": []
  }
 ],
 "metadata": {
  "kernelspec": {
   "display_name": "Python 2",
   "language": "python",
   "name": "python2"
  },
  "language_info": {
   "codemirror_mode": {
    "name": "ipython",
    "version": 2
   },
   "file_extension": ".py",
   "mimetype": "text/x-python",
   "name": "python",
   "nbconvert_exporter": "python",
   "pygments_lexer": "ipython2",
   "version": "2.7.6"
  }
 },
 "nbformat": 4,
 "nbformat_minor": 0
}
