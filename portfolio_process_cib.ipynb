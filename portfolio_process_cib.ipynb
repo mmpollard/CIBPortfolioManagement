{
 "cells": [
  {
   "cell_type": "markdown",
   "metadata": {},
   "source": [
    "# CIB Portfolio Process"
   ]
  },
  {
   "cell_type": "code",
   "execution_count": 1,
   "metadata": {
    "collapsed": false
   },
   "outputs": [],
   "source": [
    "import Quandl\n",
    "import numpy as np\n",
    "import pandas as pd\n",
    "import math\n",
    "import scipy\n",
    "import scipy.stats\n",
    "import matplotlib\n",
    "import matplotlib.pyplot as plt\n",
    "import matplotlib.pylab as pylab\n",
    "import os\n",
    "import random\n",
    "import datetime\n",
    "\n",
    "%matplotlib inline  \n",
    "pd.options.display.mpl_style = 'default'\n",
    "pylab.rcParams['figure.figsize'] = 12, 6 "
   ]
  },
  {
   "cell_type": "code",
   "execution_count": 2,
   "metadata": {
    "collapsed": false
   },
   "outputs": [],
   "source": [
    "def get(ticker_list, kind = 'log_returns'):\n",
    "    #takes in a ticker list and returns either a dataframe of closing price 'returns'\n",
    "    #for each stock or closing 'prices'\n",
    "    final_df = pd.DataFrame()\n",
    "    for item in ticker_list:\n",
    "        ticker = item\n",
    "        temp_df = Quandl.get('YAHOO/'+str(ticker), \n",
    "                                         trim_start='2001-01-01', authtoken=\"H4uWGQ3jQdm96V7H2Abm\")\n",
    "        temp_df.index = pd.to_datetime(temp_df.index)\n",
    "        temp_df = temp_df.sort()\n",
    "        if (kind == 'prices'):\n",
    "            add_series = temp_df.Close\n",
    "        elif (kind == 'log_prices'):\n",
    "            add_series = np.log(temp_df.Close);\n",
    "        elif (kind == 'returns'):\n",
    "            add_series = temp_df.Close.shift(-1) - temp_df.Close\n",
    "        else:\n",
    "            add_series = np.log(temp_df.Close).shift(-1) - np.log(temp_df.Close)\n",
    "        final_df[ticker] = add_series\n",
    "        \n",
    "\n",
    "    final_df = final_df.sort()\n",
    "    return final_df\n"
   ]
  },
  {
   "cell_type": "markdown",
   "metadata": {},
   "source": [
    "## Markowitz Efficient Portfolio Calculations"
   ]
  },
  {
   "cell_type": "code",
   "execution_count": 3,
   "metadata": {
    "collapsed": true
   },
   "outputs": [],
   "source": [
    "def portfolio_sharpe(return_df, weight_list):\n",
    "    risk = float(portfolio_risk(return_df, weight_list))\n",
    "    weight_t = np.matrix(weight_list)\n",
    "    mean = np.matrix(return_df.mean()).transpose()\n",
    "    sharpe = weight_t * mean / risk\n",
    "    return float(sharpe)\n",
    "\n",
    "def portfolio_e_return(return_df, weight_list):\n",
    "    weight_t = np.matrix(weight_list)\n",
    "    mean = np.matrix(return_df.mean()).transpose()\n",
    "    return float(weight_t * mean)\n",
    "\n",
    "def portfolio_risk(return_df, weight_list):\n",
    "    #Take in a PRICE_DF with columns being each stock's daily log_returns\n",
    "    #Take in WEIGHT_LIST with each list entry corresponding to the respective price_df\n",
    "    #column's weight in the portfolio\n",
    "    #PRICE_DF should be a concatenation of return series from return_series()\n",
    "    if (abs(sum(weight_list) - 1) > .01):\n",
    "        print(\"EROR: Weights do not sum to 1\");\n",
    "        return None\n",
    "    cov_matrix = np.matrix(return_df.cov())\n",
    "    weight_t = np.matrix(weight_list)\n",
    "    weight = weight_t.transpose()\n",
    "    variance = weight_t * cov_matrix * weight\n",
    "    return float(variance)"
   ]
  },
  {
   "cell_type": "code",
   "execution_count": 4,
   "metadata": {
    "collapsed": true
   },
   "outputs": [],
   "source": [
    "def efficient_frontier_plot(portfolio, n_obs):\n",
    "    count = 0\n",
    "    xyw = pd.DataFrame([[None,None]])\n",
    "    while count < n_obs:\n",
    "        weight_list = [random.uniform(0, 1) for i in range(1, len(portfolio.columns) + 1)]\n",
    "        \n",
    "        weight_list = [item / float(sum(weight_list)) for item in weight_list]\n",
    "        risk = portfolio_risk(portfolio, weight_list)\n",
    "        e_return = portfolio_e_return(portfolio, weight_list)\n",
    "        xyw = xyw.append([[math.sqrt(risk), e_return, weight_list]])\n",
    "        \n",
    "        count += 1\n",
    "    xyw.columns = ['x', 'y', 'w']\n",
    "    xyw['sharpe'] = xyw.y / xyw.x\n",
    "    xyw['y'] = xyw.y * 100\n",
    "    xyw.plot(title = \"Efficient Frontier from \" + str(n_obs) + \n",
    "             \" Sample Portfolios\", kind = 'scatter', y = 'y', x = 'x')\n",
    "    plt.figure()\n",
    "    plt.title(\"Histogram of Sample Sharpe Ratios\\nMean: \"+str(xyw.sharpe.mean()) + \"\\nSD: \" + str(xyw.sharpe.std()))\n",
    "    xyw.sharpe.hist(bins = 50)\n",
    "    plt.figure()\n",
    "    plt.title(\"Histogram of Sample Portfolio Variances\\nMean: \"+str(xyw.x.mean()) + \"\\nSD: \" + str(xyw.x.std()))\n",
    "    xyw.x.hist(bins = 50)\n",
    "    plt.figure()\n",
    "    plt.title(\"Histogram of Sample Portfolio Mean Returns\\nMean: \"+str((xyw.y / 100).mean()) + \"\\nSD: \" + str((xyw.y / 100).std()))\n",
    "    xyw.y.hist(bins = 50)\n",
    "    return xyw"
   ]
  },
  {
   "cell_type": "code",
   "execution_count": 5,
   "metadata": {
    "collapsed": false
   },
   "outputs": [],
   "source": [
    "def find_tangency_portfolio(portfolio, n_obs):\n",
    "    #finds tangency portfolio weights from n_obs number of samples\n",
    "    temp = efficient_frontier_plot(portfolio, n_obs)\n",
    "    return temp[temp.sharpe == temp.sharpe.max()].w[0]\n",
    "\n",
    "def find_optimal_portfolios(portfolio, n_obs, quantile_start, quantile_end):\n",
    "    #returns efficient frontier dataframe with only portfolio weights with \n",
    "    #a sharpe between the qth_start and qth_end quantile\n",
    "    temp = efficient_frontier_plot(portfolio, n_obs)\n",
    "    qth_start = find_quantile(temp.sharpe, quantile_start)\n",
    "    qth_end = find_quantile(temp.sharpe, quantile_end)\n",
    "\n",
    "    temp = temp[temp.sharpe < qth_end]\n",
    "    temp = temp[temp.sharpe > qth_start]\n",
    "    return temp\n",
    "\n"
   ]
  },
  {
   "cell_type": "markdown",
   "metadata": {},
   "source": [
    "## Statistical Functions "
   ]
  },
  {
   "cell_type": "code",
   "execution_count": 88,
   "metadata": {
    "collapsed": true
   },
   "outputs": [],
   "source": [
    "def find_quantile(series, qth_percentile):\n",
    "    #returns the qth percentile element of the input series\n",
    "    #qth percentile = 95 takes the 95% quantile\n",
    "    return np.percentile(series, qth_percentile)\n",
    "\n",
    "def qq_plot(return_series, distribution = 'norm'):\n",
    "    scipy.stats.probplot(return_series, dist=distribution, plot=pylab, fit = True)\n",
    "\n",
    "def histogram(series):\n",
    "    series.hist()\n",
    "    pylab.suptitle(\"Samples = \" + str(len(series)) + \n",
    "               \"\\nMean = \" + str(series.mean()) + \n",
    "               \"\\nSTD = \" + str(series.std()))\n",
    "    \n",
    "    "
   ]
  },
  {
   "cell_type": "markdown",
   "metadata": {},
   "source": [
    "## Earnings Volatility"
   ]
  },
  {
   "cell_type": "code",
   "execution_count": 131,
   "metadata": {
    "collapsed": false
   },
   "outputs": [],
   "source": [
    "def get_eps(ticker_list):\n",
    "    final_df = pd.DataFrame()\n",
    "    for ticker in ticker_list:\n",
    "        try:\n",
    "            temp_df = Quandl.get(\"SEC/\" + ticker + \"_EARNINGSPERSHAREDILUTED_Q\", \n",
    "                                         authtoken=\"H4uWGQ3jQdm96V7H2Abm\")\n",
    "        except:\n",
    "            print(\"WARNING: Could not find EPS for \" + ticker)\n",
    "            continue;\n",
    "        temp_df.columns = [ticker]\n",
    "        if not final_df.equals(pd.DataFrame()):\n",
    "            final_df = pd.merge(final_df, temp_df, left_index = True, right_index = True,  how = 'outer')\n",
    "        else:\n",
    "            final_df = temp_df\n",
    "        \n",
    "    return final_df\n",
    "\n",
    "\n",
    "def get_div(ticker_list):\n",
    "    final_df = pd.DataFrame()\n",
    "    for ticker in ticker_list:\n",
    "        try:\n",
    "            temp_df = Quandl.get((\"SEC/DIV_\" + ticker), \n",
    "                                         authtoken=\"H4uWGQ3jQdm96V7H2Abm\")\n",
    "        except:\n",
    "            print(\"WARNING: Could not find DIV for \" + ticker)\n",
    "            continue;\n",
    "        temp_df.columns = [ticker]\n",
    "        if not final_df.equals(pd.DataFrame()):\n",
    "            final_df = pd.merge(final_df, temp_df, left_index = True, right_index = True,  how = 'outer')\n",
    "        else:\n",
    "            final_df = temp_df\n",
    "        \n",
    "    return final_df"
   ]
  },
  {
   "cell_type": "code",
   "execution_count": 155,
   "metadata": {
    "collapsed": false
   },
   "outputs": [],
   "source": [
    "def ally_df(ticker):\n",
    "    #returns latest eps and dividend for each date\n",
    "    #the first column is daily returns for the stock\n",
    "    price_df = get([ticker])\n",
    "    eps_df = get_eps([ticker])\n",
    "    div_df = get_div([ticker])\n",
    "    final_df = pd.merge(price_df, eps_df, right_index = True, left_index = True, how = 'left')\n",
    "    final_df = pd.merge(final_df, div_df, right_index = True, left_index = True, how = 'left')\n",
    "    final_df.columns = [ticker, 'EPS', 'DIV']\n",
    "    final_df.EPS = final_df.EPS.fillna(method = 'ffill')\n",
    "    final_df.DIV = final_df.DIV.fillna(method = 'ffill')\n",
    "    return final_df"
   ]
  },
  {
   "cell_type": "code",
   "execution_count": null,
   "metadata": {
    "collapsed": false
   },
   "outputs": [],
   "source": []
  },
  {
   "cell_type": "markdown",
   "metadata": {
    "collapsed": false
   },
   "source": [
    "## Get S&P 500 Tickers"
   ]
  },
  {
   "cell_type": "code",
   "execution_count": 99,
   "metadata": {
    "collapsed": false
   },
   "outputs": [],
   "source": [
    "def get_sp500():\n",
    "    temp = pd.read_csv(\"data/sp500_tickers.csv\")\n",
    "    temp.columns = ['ticker', 'name', 'sector']\n",
    "    temp = temp[temp.ticker != 'ICE']\n",
    "    return temp\n"
   ]
  },
  {
   "cell_type": "code",
   "execution_count": null,
   "metadata": {
    "collapsed": false
   },
   "outputs": [],
   "source": []
  },
  {
   "cell_type": "markdown",
   "metadata": {},
   "source": [
    "## >> CODE TESTING"
   ]
  },
  {
   "cell_type": "code",
   "execution_count": 58,
   "metadata": {
    "collapsed": false
   },
   "outputs": [],
   "source": [
    "a = get_eps(['AAPL'])\n",
    "b = get_eps(['IBM'])\n",
    "cba = get_eps(['AAPL', 'IBM', 'MSFT'])"
   ]
  },
  {
   "cell_type": "code",
   "execution_count": 100,
   "metadata": {
    "collapsed": true
   },
   "outputs": [
    {
     "name": "stdout",
     "output_type": "stream",
     "text": [
      "WARNING: Could not find EPS for ABBV\n",
      "WARNING: Could not find EPS for ATI\n",
      "WARNING: Could not find EPS for ALLE\n",
      "WARNING: Could not find EPS for MO\n",
      "WARNING: Could not find EPS for AAL\n",
      "WARNING: Could not find EPS for ANTM\n",
      "WARNING: Could not find EPS for AON\n",
      "WARNING: Could not find EPS for AIV\n",
      "WARNING: Could not find EPS for AZO\n",
      "WARNING: Could not find EPS for AVB\n",
      "WARNING: Could not find EPS for AVY\n",
      "WARNING: Could not find EPS for BLL\n",
      "WARNING: Could not find EPS for BBT\n",
      "WARNING: Could not find EPS for BDX\n",
      "WARNING: Could not find EPS for BBBY\n",
      "WARNING: Could not find EPS for BRK-B\n",
      "WARNING: Could not find EPS for BBY\n",
      "WARNING: Could not find EPS for BA\n",
      "WARNING: Could not find EPS for BXP\n",
      "WARNING: Could not find EPS for BRCM\n",
      "WARNING: Could not find EPS for BF-B\n",
      "WARNING: Could not find EPS for CA\n",
      "WARNING: Could not find EPS for COG\n",
      "WARNING: Could not find EPS for CPB\n",
      "WARNING: Could not find EPS for COF\n",
      "WARNING: Could not find EPS for KMX\n",
      "WARNING: Could not find EPS for CNP\n",
      "WARNING: Could not find EPS for CINF\n",
      "WARNING: Could not find EPS for C\n",
      "WARNING: Could not find EPS for CMS\n",
      "WARNING: Could not find EPS for CSC\n",
      "WARNING: Could not find EPS for COP\n",
      "WARNING: Could not find EPS for CNX\n",
      "WARNING: Could not find EPS for ED\n",
      "WARNING: Could not find EPS for STZ\n",
      "WARNING: Could not find EPS for ETFC\n",
      "WARNING: Could not find EPS for EMN\n",
      "WARNING: Could not find EPS for ETN\n",
      "WARNING: Could not find EPS for EIX\n",
      "WARNING: Could not find EPS for EW\n",
      "WARNING: Could not find EPS for EMC\n",
      "WARNING: Could not find EPS for EMR\n",
      "WARNING: Could not find EPS for ENDP\n",
      "WARNING: Could not find EPS for ESV\n",
      "WARNING: Could not find EPS for ETR\n",
      "WARNING: Could not find EPS for EOG\n",
      "WARNING: Could not find EPS for EQT\n",
      "WARNING: Could not find EPS for EFX\n",
      "WARNING: Could not find EPS for EQIX\n",
      "WARNING: Could not find EPS for EQR\n",
      "WARNING: Could not find EPS for ESS\n",
      "WARNING: Could not find EPS for EL\n",
      "WARNING: Could not find EPS for ES\n",
      "WARNING: Could not find EPS for EXC\n",
      "WARNING: Could not find EPS for EXPE\n",
      "WARNING: Could not find EPS for EXPD\n",
      "WARNING: Could not find EPS for ESRX\n",
      "WARNING: Could not find EPS for GME\n",
      "WARNING: Could not find EPS for GPS\n",
      "WARNING: Could not find EPS for GRMN\n",
      "WARNING: Could not find EPS for GD\n",
      "WARNING: Could not find EPS for GE\n",
      "WARNING: Could not find EPS for GGP\n",
      "WARNING: Could not find EPS for GNW\n",
      "WARNING: Could not find EPS for GS\n",
      "WARNING: Could not find EPS for GT\n",
      "WARNING: Could not find EPS for GOOGL\n",
      "WARNING: Could not find EPS for GWW\n",
      "WARNING: Could not find EPS for HAL\n",
      "WARNING: Could not find EPS for HBI\n",
      "WARNING: Could not find EPS for HAR\n",
      "WARNING: Could not find EPS for HIG\n",
      "WARNING: Could not find EPS for HAS\n",
      "WARNING: Could not find EPS for HCP\n",
      "WARNING: Could not find EPS for HCN\n",
      "WARNING: Could not find EPS for HP\n",
      "WARNING: Could not find EPS for HES\n",
      "WARNING: Could not find EPS for HD\n",
      "WARNING: Could not find EPS for HCBK\n",
      "WARNING: Could not find EPS for HBAN\n",
      "WARNING: Could not find EPS for ITW\n",
      "WARNING: Could not find EPS for IR\n",
      "WARNING: Could not find EPS for IP\n",
      "WARNING: Could not find EPS for IPG\n",
      "WARNING: Could not find EPS for IVZ\n",
      "WARNING: Could not find EPS for IRM\n",
      "WARNING: Could not find EPS for JOY\n",
      "WARNING: Could not find EPS for JPM\n",
      "WARNING: Could not find EPS for KSU\n",
      "WARNING: Could not find EPS for K\n",
      "WARNING: Could not find EPS for KEY\n",
      "WARNING: Could not find EPS for KMB\n",
      "WARNING: Could not find EPS for KIM\n",
      "WARNING: Could not find EPS for KMI\n",
      "WARNING: Could not find EPS for KLAC\n",
      "WARNING: Could not find EPS for KSS\n",
      "WARNING: Could not find EPS for KRFT\n",
      "WARNING: Could not find EPS for KR\n",
      "WARNING: Could not find EPS for LB\n",
      "WARNING: Could not find EPS for LLL\n",
      "WARNING: Could not find EPS for LM\n",
      "WARNING: Could not find EPS for LUK\n",
      "WARNING: Could not find EPS for LVLT\n",
      "WARNING: Could not find EPS for LNC\n",
      "WARNING: Could not find EPS for LMT\n",
      "WARNING: Could not find EPS for L\n",
      "WARNING: Could not find EPS for LYB\n",
      "WARNING: Could not find EPS for MTB\n",
      "WARNING: Could not find EPS for MAC\n",
      "WARNING: Could not find EPS for M\n",
      "WARNING: Could not find EPS for MNK\n",
      "WARNING: Could not find EPS for MRO\n",
      "WARNING: Could not find EPS for MPC\n",
      "WARNING: Could not find EPS for MMC\n",
      "WARNING: Could not find EPS for MLM\n",
      "WARNING: Could not find EPS for MAS\n",
      "WARNING: Could not find EPS for MAT\n",
      "WARNING: Could not find EPS for MHFI\n",
      "WARNING: Could not find EPS for MCK\n",
      "WARNING: Could not find EPS for MDT\n",
      "WARNING: Could not find EPS for MET\n",
      "WARNING: Could not find EPS for KORS\n",
      "WARNING: Could not find EPS for MCHP\n",
      "WARNING: Could not find EPS for MU\n",
      "WARNING: Could not find EPS for MHK\n",
      "WARNING: Could not find EPS for TAP\n",
      "WARNING: Could not find EPS for MDLZ\n",
      "WARNING: Could not find EPS for MON\n",
      "WARNING: Could not find EPS for MNST\n",
      "WARNING: Could not find EPS for MS\n",
      "WARNING: Could not find EPS for MSI\n",
      "WARNING: Could not find EPS for MUR\n",
      "WARNING: Could not find EPS for MYL\n",
      "WARNING: Could not find EPS for NAVI\n",
      "WARNING: Could not find EPS for NWL\n",
      "WARNING: Could not find EPS for NWSA\n",
      "WARNING: Could not find EPS for NBL\n",
      "WARNING: Could not find EPS for JWN\n",
      "WARNING: Could not find EPS for NUE\n",
      "WARNING: Could not find EPS for OXY\n",
      "WARNING: Could not find EPS for OMC\n",
      "WARNING: Could not find EPS for OKE\n",
      "WARNING: Could not find EPS for OI\n",
      "WARNING: Could not find EPS for PH\n",
      "WARNING: Could not find EPS for PNR\n",
      "WARNING: Could not find EPS for PBCT\n",
      "WARNING: Could not find EPS for PKI\n",
      "WARNING: Could not find EPS for PFE\n",
      "WARNING: Could not find EPS for PM\n",
      "WARNING: Could not find EPS for PXD\n",
      "WARNING: Could not find EPS for PBI\n",
      "WARNING: Could not find EPS for PNC\n",
      "WARNING: Could not find EPS for PCP\n",
      "WARNING: Could not find EPS for PG\n",
      "WARNING: Could not find EPS for PGR\n",
      "WARNING: Could not find EPS for PLD\n",
      "WARNING: Could not find EPS for PEG\n",
      "WARNING: Could not find EPS for PHM\n",
      "WARNING: Could not find EPS for QEP\n",
      "WARNING: Could not find EPS for QRVO\n",
      "WARNING: Could not find EPS for QCOM\n",
      "WARNING: Could not find EPS for PWR\n",
      "WARNING: Could not find EPS for RTN\n",
      "WARNING: Could not find EPS for O\n",
      "WARNING: Could not find EPS for RF\n",
      "WARNING: Could not find EPS for ROK\n",
      "WARNING: Could not find EPS for COL\n",
      "WARNING: Could not find EPS for R\n",
      "WARNING: Could not find EPS for SEE\n",
      "WARNING: Could not find EPS for SHW\n",
      "WARNING: Could not find EPS for SIAL\n",
      "WARNING: Could not find EPS for SJM\n",
      "WARNING: Could not find EPS for SE\n",
      "WARNING: Could not find EPS for SWK\n",
      "WARNING: Could not find EPS for STT\n",
      "WARNING: Could not find EPS for TGT\n",
      "WARNING: Could not find EPS for TE\n",
      "WARNING: Could not find EPS for TGNA\n",
      "WARNING: Could not find EPS for THC\n",
      "WARNING: Could not find EPS for TSO\n",
      "WARNING: Could not find EPS for TMO\n",
      "WARNING: Could not find EPS for TJX\n",
      "WARNING: Could not find EPS for TMK\n",
      "WARNING: Could not find EPS for TSS\n",
      "WARNING: Could not find EPS for RIG\n",
      "WARNING: Could not find EPS for TSN\n",
      "WARNING: Could not find EPS for USB\n",
      "WARNING: Could not find EPS for UTX\n",
      "WARNING: Could not find EPS for VLO\n",
      "WARNING: Could not find EPS for VTR\n",
      "WARNING: Could not find EPS for VRSN\n",
      "WARNING: Could not find EPS for VFC\n",
      "WARNING: Could not find EPS for VIAB\n",
      "WARNING: Could not find EPS for V\n",
      "WARNING: Could not find EPS for VNO\n",
      "WARNING: Could not find EPS for VMC\n",
      "WARNING: Could not find EPS for WMT\n",
      "WARNING: Could not find EPS for WBA\n",
      "WARNING: Could not find EPS for WM\n",
      "WARNING: Could not find EPS for WAT\n",
      "WARNING: Could not find EPS for WEC\n",
      "WARNING: Could not find EPS for WY\n",
      "WARNING: Could not find EPS for WMB\n",
      "WARNING: Could not find EPS for WYN\n",
      "WARNING: Could not find EPS for XRX\n",
      "WARNING: Could not find EPS for XL\n",
      "WARNING: Could not find EPS for XYL\n",
      "WARNING: Could not find EPS for YHOO\n",
      "WARNING: Could not find EPS for YUM\n",
      "WARNING: Could not find EPS for ZBH\n",
      "WARNING: Could not find EPS for ZTS\n"
     ]
    }
   ],
   "source": [
    "a=get_sp500()\n",
    "temp = [a for a in a.ticker]\n",
    "eps_df = get_eps(temp)"
   ]
  },
  {
   "cell_type": "code",
   "execution_count": 102,
   "metadata": {
    "collapsed": false
   },
   "outputs": [
    {
     "data": {
      "image/png": "[encoded data removed]",
      "text/plain": [
       "<matplotlib.figure.Figure at 0x10c89c390>"
      ]
     },
     "metadata": {},
     "output_type": "display_data"
    }
   ],
   "source": [
    "histogram(eps_df.std())"
   ]
  },
  {
   "cell_type": "code",
   "execution_count": null,
   "metadata": {
    "collapsed": true
   },
   "outputs": [],
   "source": []
  },
  {
   "cell_type": "code",
   "execution_count": null,
   "metadata": {
    "collapsed": false
   },
   "outputs": [],
   "source": []
  },
  {
   "cell_type": "code",
   "execution_count": null,
   "metadata": {
    "collapsed": false
   },
   "outputs": [],
   "source": []
  },
  {
   "cell_type": "code",
   "execution_count": null,
   "metadata": {
    "collapsed": false
   },
   "outputs": [],
   "source": []
  },
  {
   "cell_type": "code",
   "execution_count": 4,
   "metadata": {
    "collapsed": false
   },
   "outputs": [],
   "source": [
    "portfolio = get(['msft', 'mu', 'f', 'gs', 'ge', 'cvx', 'gs', 'ups', 'luv'], 'log_returns')"
   ]
  },
  {
   "cell_type": "code",
   "execution_count": null,
   "metadata": {
    "collapsed": false
   },
   "outputs": [],
   "source": []
  },
  {
   "cell_type": "code",
   "execution_count": 16,
   "metadata": {
    "collapsed": false
   },
   "outputs": [
    {
     "data": {
      "text/plain": [
       "-0.11761119743087618"
      ]
     },
     "execution_count": 16,
     "metadata": {},
     "output_type": "execute_result"
    }
   ],
   "source": [
    "portfolio_sharpe(portfolio, [.2, .2, .4, .2])\n"
   ]
  },
  {
   "cell_type": "code",
   "execution_count": null,
   "metadata": {
    "collapsed": true
   },
   "outputs": [],
   "source": [
    "\n"
   ]
  },
  {
   "cell_type": "code",
   "execution_count": null,
   "metadata": {
    "collapsed": false
   },
   "outputs": [],
   "source": []
  },
  {
   "cell_type": "code",
   "execution_count": null,
   "metadata": {
    "collapsed": true
   },
   "outputs": [],
   "source": []
  },
  {
   "cell_type": "code",
   "execution_count": null,
   "metadata": {
    "collapsed": true
   },
   "outputs": [],
   "source": []
  },
  {
   "cell_type": "code",
   "execution_count": null,
   "metadata": {
    "collapsed": false
   },
   "outputs": [],
   "source": []
  },
  {
   "cell_type": "code",
   "execution_count": null,
   "metadata": {
    "collapsed": true
   },
   "outputs": [],
   "source": []
  }
 ],
 "metadata": {
  "kernelspec": {
   "display_name": "Python 2",
   "language": "python",
   "name": "python2"
  },
  "language_info": {
   "codemirror_mode": {
    "name": "ipython",
    "version": 2
   },
   "file_extension": ".py",
   "mimetype": "text/x-python",
   "name": "python",
   "nbconvert_exporter": "python",
   "pygments_lexer": "ipython2",
   "version": "2.7.6"
  }
 },
 "nbformat": 4,
 "nbformat_minor": 0
}
